{
 "cells": [
  {
   "cell_type": "markdown",
   "id": "4fa67d7a",
   "metadata": {
    "pycharm": {
     "name": "#%% md\n"
    }
   },
   "source": [
    "First step is to install the pre-requisites packages"
   ]
  },
  {
   "cell_type": "code",
   "execution_count": 1,
   "id": "ac05c073-d45b-4d85-9bf8-ae10aa78be8d",
   "metadata": {
    "pycharm": {
     "name": "#%%\n"
    },
    "tags": []
   },
   "outputs": [],
   "source": [
    "# !pip install --upgrade -q -r requirements.txt\n",
    "# !pip install --upgrade boto3 botocore "
   ]
  },
  {
   "cell_type": "code",
   "execution_count": 3,
   "id": "86e1817e",
   "metadata": {},
   "outputs": [
    {
     "data": {
      "text/plain": [
       "'1.34.117'"
      ]
     },
     "execution_count": 3,
     "metadata": {},
     "output_type": "execute_result"
    }
   ],
   "source": [
    "import boto3 \n",
    "boto3.__version__"
   ]
  },
  {
   "cell_type": "code",
   "execution_count": 4,
   "id": "e8ad6ec2-b283-4c5d-879f-e397e46568c0",
   "metadata": {
    "pycharm": {
     "name": "#%%\n"
    },
    "tags": []
   },
   "outputs": [],
   "source": [
    "import os\n",
    "import time\n",
    "import boto3\n",
    "import logging\n",
    "\n",
    "%load_ext autoreload\n",
    "%autoreload 2\n",
    "\n",
    "from knowledge_base import BedrockKnowledgeBase\n",
    "from agent import AgentsForAmazonBedrock"
   ]
  },
  {
   "cell_type": "code",
   "execution_count": 5,
   "id": "a30f6ace",
   "metadata": {},
   "outputs": [],
   "source": [
    "agents = AgentsForAmazonBedrock()"
   ]
  },
  {
   "cell_type": "code",
   "execution_count": 6,
   "id": "d2b2d607-c1f2-4cbb-9f89-d935676e0101",
   "metadata": {
    "pycharm": {
     "name": "#%%\n"
    },
    "tags": []
   },
   "outputs": [],
   "source": [
    "#Clients\n",
    "s3_client = boto3.client('s3')\n",
    "sts_client = boto3.client('sts')\n",
    "bedrock_agent_client = boto3.client('bedrock-agent')\n",
    "bedrock_agent_runtime_client = boto3.client('bedrock-agent-runtime')\n",
    "\n",
    "logging.basicConfig(format='[%(asctime)s] p%(process)s {%(filename)s:%(lineno)d} %(levelname)s - %(message)s', level=logging.INFO)\n",
    "logger = logging.getLogger(__name__)"
   ]
  },
  {
   "cell_type": "code",
   "execution_count": 7,
   "id": "d647d2a3",
   "metadata": {
    "pycharm": {
     "name": "#%%\n"
    },
    "tags": []
   },
   "outputs": [],
   "source": [
    "region = agents.get_region()\n",
    "account_id = sts_client.get_caller_identity()[\"Account\"]\n",
    "\n",
    "suffix = f\"{region}-{account_id}\"\n",
    "bucket_name = f'mac-workshop-{suffix}'\n",
    "agent_foundation_models = [\n",
    "    \"anthropic.claude-3-haiku-20240307-v1:0\",\n",
    "    \"anthropic.claude-3-sonnet-20240229-v1:0\", \n",
    "    ]"
   ]
  },
  {
   "cell_type": "markdown",
   "id": "38c38fcb-9b87-414e-a644-04c263eea5c9",
   "metadata": {
    "pycharm": {
     "name": "#%% md\n"
    }
   },
   "source": [
    "## 1. Create Knowledge Base \n",
    "Let's start by creating a [Knowledge Base for Amazon Bedrock](https://aws.amazon.com/bedrock/knowledge-bases/) \n",
    "to provide knowledge about mortgages. Knowledge Bases allow you to integrate with different vector databases including [Amazon OpenSearch Serverless](https://aws.amazon.com/opensearch-service/features/serverless/), [Amazon Aurora](https://aws.amazon.com/rds/aurora/) and [Pinecone](http://app.pinecone.io/bedrock-integration). For this example, we will integrate the knowledge base with Amazon OpenSearch Serverless. To do so, we will use the helper class `BedrockKnowledgeBase` which creates the knowledge base and all of its prerequisites:\n",
    "1. IAM roles and policies\n",
    "2. S3 bucket\n",
    "3. Amazon OpenSearch Serverless encryption, network and data access policies\n",
    "4. Amazon OpenSearch Serverless collection\n",
    "5. Amazon OpenSearch Serverless vector index\n",
    "6. Knowledge Base\n",
    "7. Knowledge Base data source"
   ]
  },
  {
   "cell_type": "code",
   "execution_count": 8,
   "id": "2c39c2d9-7965-4c22-a74b-65d1961c4166",
   "metadata": {
    "pycharm": {
     "name": "#%%\n"
    },
    "tags": []
   },
   "outputs": [
    {
     "name": "stderr",
     "output_type": "stream",
     "text": [
      "[2024-06-01 14:31:36,776] p58599 {credentials.py:1278} INFO - Found credentials in shared credentials file: ~/.aws/credentials\n"
     ]
    },
    {
     "name": "stderr",
     "output_type": "stream",
     "text": [
      "[2024-06-01 14:31:37,442] p58599 {credentials.py:1278} INFO - Found credentials in shared credentials file: ~/.aws/credentials\n"
     ]
    },
    {
     "name": "stdout",
     "output_type": "stream",
     "text": [
      "========================================================================================\n",
      "Step 1 - Creating or retrieving mac-workshop-us-east-1-355151823911 S3 bucket for Knowledge Base documents\n",
      "Bucket mac-workshop-us-east-1-355151823911 already exists - retrieving it!\n",
      "========================================================================================\n",
      "Step 2 - Creating Knowledge Base Execution Role (AmazonBedrockExecutionRoleForKnowledgeBase_3551) and Policies\n",
      "========================================================================================\n",
      "Step 3 - Creating OSS encryption, network and data access policies\n",
      "========================================================================================\n",
      "Step 4 - Creating OSS Collection (this step takes a couple of minutes to complete)\n",
      "{ 'arn': 'arn:aws:aoss:us-east-1:355151823911:collection/8ffkod4xuw4bfrckv7w3',\n",
      "  'collectionEndpoint': 'https://8ffkod4xuw4bfrckv7w3.us-east-1.aoss.amazonaws.com',\n",
      "  'createdDate': 1716903592404,\n",
      "  'dashboardEndpoint': 'https://8ffkod4xuw4bfrckv7w3.us-east-1.aoss.amazonaws.com/_dashboards',\n",
      "  'id': '8ffkod4xuw4bfrckv7w3',\n",
      "  'kmsKeyArn': 'auto',\n",
      "  'lastModifiedDate': 1716903616282,\n",
      "  'name': 'bedrock-sample-rag-3551',\n",
      "  'standbyReplicas': 'ENABLED',\n",
      "  'status': 'ACTIVE',\n",
      "  'type': 'VECTORSEARCH'}\n",
      "{ 'arn': 'arn:aws:aoss:us-east-1:355151823911:collection/8ffkod4xuw4bfrckv7w3',\n",
      "  'collectionEndpoint': 'https://8ffkod4xuw4bfrckv7w3.us-east-1.aoss.amazonaws.com',\n",
      "  'createdDate': 1716903592404,\n",
      "  'dashboardEndpoint': 'https://8ffkod4xuw4bfrckv7w3.us-east-1.aoss.amazonaws.com/_dashboards',\n",
      "  'id': '8ffkod4xuw4bfrckv7w3',\n",
      "  'kmsKeyArn': 'auto',\n",
      "  'lastModifiedDate': 1716903616282,\n",
      "  'name': 'bedrock-sample-rag-3551',\n",
      "  'standbyReplicas': 'ENABLED',\n",
      "  'status': 'ACTIVE',\n",
      "  'type': 'VECTORSEARCH'}\n",
      "8ffkod4xuw4bfrckv7w3.us-east-1.aoss.amazonaws.com\n",
      "\n",
      "Collection successfully created:\n",
      "[ { 'arn': 'arn:aws:aoss:us-east-1:355151823911:collection/8ffkod4xuw4bfrckv7w3',\n",
      "    'collectionEndpoint': 'https://8ffkod4xuw4bfrckv7w3.us-east-1.aoss.amazonaws.com',\n",
      "    'createdDate': 1716903592404,\n",
      "    'dashboardEndpoint': 'https://8ffkod4xuw4bfrckv7w3.us-east-1.aoss.amazonaws.com/_dashboards',\n",
      "    'id': '8ffkod4xuw4bfrckv7w3',\n",
      "    'kmsKeyArn': 'auto',\n",
      "    'lastModifiedDate': 1716903616282,\n",
      "    'name': 'bedrock-sample-rag-3551',\n",
      "    'standbyReplicas': 'ENABLED',\n",
      "    'status': 'ACTIVE',\n",
      "    'type': 'VECTORSEARCH'}]\n",
      "Policy arn:aws:iam::355151823911:policy/AmazonBedrockOSSPolicyForKnowledgeBase_3551 already exists, skipping creation\n",
      "Opensearch serverless arn:  arn:aws:iam::355151823911:policy/AmazonBedrockOSSPolicyForKnowledgeBase_3551\n",
      "========================================================================================\n",
      "Step 5 - Creating OSS Vector Index\n"
     ]
    },
    {
     "name": "stderr",
     "output_type": "stream",
     "text": [
      "[2024-06-01 14:31:40,764] p58599 {base.py:280} WARNING - PUT https://8ffkod4xuw4bfrckv7w3.us-east-1.aoss.amazonaws.com:443/bedrock-sample-rag-index-3551 [status:400 request:0.649s]\n"
     ]
    },
    {
     "name": "stdout",
     "output_type": "stream",
     "text": [
      "Error while trying to create the index, with error resource_already_exists_exception\n",
      "you may unmark the delete above to delete, and recreate the index\n",
      "========================================================================================\n",
      "Step 6 - Creating Knowledge Base\n",
      "{ 'createdAt': datetime.datetime(2024, 5, 28, 13, 42, 24, 75449, tzinfo=tzutc()),\n",
      "  'description': 'Useful for answering questions about mortgage refinancing '\n",
      "                 'and for questions comparing various mortgage types',\n",
      "  'knowledgeBaseArn': 'arn:aws:bedrock:us-east-1:355151823911:knowledge-base/LAFUAQUKQG',\n",
      "  'knowledgeBaseConfiguration': { 'type': 'VECTOR',\n",
      "                                  'vectorKnowledgeBaseConfiguration': { 'embeddingModelArn': 'arn:aws:bedrock:us-east-1::foundation-model/amazon.titan-embed-text-v1'}},\n",
      "  'knowledgeBaseId': 'LAFUAQUKQG',\n",
      "  'name': 'general-mortgage-kb',\n",
      "  'roleArn': 'arn:aws:iam::355151823911:role/AmazonBedrockExecutionRoleForKnowledgeBase_3551',\n",
      "  'status': 'ACTIVE',\n",
      "  'storageConfiguration': { 'opensearchServerlessConfiguration': { 'collectionArn': 'arn:aws:aoss:us-east-1:355151823911:collection/8ffkod4xuw4bfrckv7w3',\n",
      "                                                                   'fieldMapping': { 'metadataField': 'text-metadata',\n",
      "                                                                                     'textField': 'text',\n",
      "                                                                                     'vectorField': 'vector'},\n",
      "                                                                   'vectorIndexName': 'bedrock-sample-rag-index-3551'},\n",
      "                            'type': 'OPENSEARCH_SERVERLESS'},\n",
      "  'updatedAt': datetime.datetime(2024, 5, 28, 13, 42, 24, 75449, tzinfo=tzutc())}\n",
      "{ 'createdAt': datetime.datetime(2024, 5, 28, 13, 42, 24, 508609, tzinfo=tzutc()),\n",
      "  'dataDeletionPolicy': 'DELETE',\n",
      "  'dataSourceConfiguration': { 's3Configuration': { 'bucketArn': 'arn:aws:s3:::mac-workshop-us-east-1-355151823911'},\n",
      "                               'type': 'S3'},\n",
      "  'dataSourceId': 'GHBCBHJTZR',\n",
      "  'description': 'Useful for answering questions about mortgage refinancing '\n",
      "                 'and for questions comparing various mortgage types',\n",
      "  'knowledgeBaseId': 'LAFUAQUKQG',\n",
      "  'name': 'general-mortgage-kb',\n",
      "  'status': 'AVAILABLE',\n",
      "  'updatedAt': datetime.datetime(2024, 5, 28, 13, 42, 24, 508609, tzinfo=tzutc()),\n",
      "  'vectorIngestionConfiguration': { 'chunkingConfiguration': { 'chunkingStrategy': 'FIXED_SIZE',\n",
      "                                                               'fixedSizeChunkingConfiguration': { 'maxTokens': 512,\n",
      "                                                                                                   'overlapPercentage': 20}}}}\n",
      "========================================================================================\n"
     ]
    }
   ],
   "source": [
    "knowledge_base = BedrockKnowledgeBase(\n",
    "    kb_name=\"general-mortgage-kb\",\n",
    "    kb_description=\"Useful for answering questions about mortgage refinancing and for questions comparing various mortgage types\",\n",
    "    data_bucket_name=bucket_name\n",
    ")"
   ]
  },
  {
   "cell_type": "markdown",
   "id": "c6b5819d-93a9-44d3-8eaa-5ed1da6a8c95",
   "metadata": {
    "pycharm": {
     "name": "#%% md\n"
    }
   },
   "source": [
    "### Upload the dataset to Amazon S3\n",
    "Now that we have created the knowledge base, let's populate it with some mortgage knowledge. The Knowledge Base data source expects the data to be available on the S3 bucket connected to it and changes on the data can be syncronized to the knowledge base using the `Ingest` API call. In this example we will use the [boto3 abstraction](https://boto3.amazonaws.com/v1/documentation/api/latest/reference/services/bedrock-agent/client/start_ingestion_job.html) of the API, via our helper class. \n",
    "\n",
    "Let's first upload the source documents available from the dataset folder to s3."
   ]
  },
  {
   "cell_type": "code",
   "execution_count": 16,
   "id": "ceecf498-e42e-4fdd-ad2e-e646a4ef4adb",
   "metadata": {
    "pycharm": {
     "name": "#%%\n"
    },
    "tags": []
   },
   "outputs": [
    {
     "name": "stdout",
     "output_type": "stream",
     "text": [
      "uploading file mortgage_dataset/15-Year vs. 30-Year Mortgage What's the Difference .html to mac-workshop-us-east-1-355151823911\n",
      "uploading file mortgage_dataset/Mortgage Refinancing When Does It Make Sense .html to mac-workshop-us-east-1-355151823911\n"
     ]
    }
   ],
   "source": [
    "def upload_directory(path, bucket_name):\n",
    "        for root,dirs,files in os.walk(path):\n",
    "            for file in files:\n",
    "                file_to_upload = os.path.join(root,file)\n",
    "                print(f\"uploading file {file_to_upload} to {bucket_name}\")\n",
    "                s3_client.upload_file(file_to_upload,bucket_name,file)\n",
    "\n",
    "upload_directory(\"mortgage_dataset\", bucket_name)"
   ]
  },
  {
   "cell_type": "markdown",
   "id": "48e46273-0267-4ecb-a686-2b1694b5a604",
   "metadata": {
    "pycharm": {
     "name": "#%% md\n"
    }
   },
   "source": [
    "Now we ingest the documents, which chunks the source documents and stores an embedding for each chunk into the underying \n",
    "knowledge base vector store. For a simple example, this ingestion takes a couple minutes. "
   ]
  },
  {
   "cell_type": "code",
   "execution_count": 17,
   "id": "1bb7a9bc-5bba-4066-8fa3-a4c5a1385e95",
   "metadata": {
    "pycharm": {
     "name": "#%%\n"
    },
    "tags": []
   },
   "outputs": [
    {
     "name": "stdout",
     "output_type": "stream",
     "text": [
      "{ 'dataSourceId': 'GHBCBHJTZR',\n",
      "  'ingestionJobId': 'WLJMB8SW9E',\n",
      "  'knowledgeBaseId': 'LAFUAQUKQG',\n",
      "  'startedAt': datetime.datetime(2024, 5, 28, 13, 44, 49, 221703, tzinfo=tzutc()),\n",
      "  'statistics': { 'numberOfDocumentsDeleted': 0,\n",
      "                  'numberOfDocumentsFailed': 0,\n",
      "                  'numberOfDocumentsScanned': 0,\n",
      "                  'numberOfMetadataDocumentsModified': 0,\n",
      "                  'numberOfMetadataDocumentsScanned': 0,\n",
      "                  'numberOfModifiedDocumentsIndexed': 0,\n",
      "                  'numberOfNewDocumentsIndexed': 0},\n",
      "  'status': 'STARTING',\n",
      "  'updatedAt': datetime.datetime(2024, 5, 28, 13, 44, 49, 221703, tzinfo=tzutc())}\n",
      "{ 'dataSourceId': 'GHBCBHJTZR',\n",
      "  'ingestionJobId': 'WLJMB8SW9E',\n",
      "  'knowledgeBaseId': 'LAFUAQUKQG',\n",
      "  'startedAt': datetime.datetime(2024, 5, 28, 13, 44, 49, 221703, tzinfo=tzutc()),\n",
      "  'statistics': { 'numberOfDocumentsDeleted': 0,\n",
      "                  'numberOfDocumentsFailed': 0,\n",
      "                  'numberOfDocumentsScanned': 2,\n",
      "                  'numberOfMetadataDocumentsModified': 0,\n",
      "                  'numberOfMetadataDocumentsScanned': 0,\n",
      "                  'numberOfModifiedDocumentsIndexed': 0,\n",
      "                  'numberOfNewDocumentsIndexed': 2},\n",
      "  'status': 'COMPLETE',\n",
      "  'updatedAt': datetime.datetime(2024, 5, 28, 13, 44, 58, 510812, tzinfo=tzutc())}\n",
      "........................................\r"
     ]
    }
   ],
   "source": [
    "# ensure that the kb is available\n",
    "time.sleep(30)\n",
    "# sync knowledge base\n",
    "knowledge_base.ingest()"
   ]
  },
  {
   "cell_type": "code",
   "execution_count": 18,
   "id": "23249213",
   "metadata": {},
   "outputs": [],
   "source": [
    "# knowledge_base.delete_kb()"
   ]
  },
  {
   "cell_type": "markdown",
   "id": "9c85cbee-9359-4927-ae16-fa7af42cf981",
   "metadata": {
    "pycharm": {
     "name": "#%% md\n"
    }
   },
   "source": [
    "Finally we collect the Knowledge Base Id to integrate it with our Agent later on"
   ]
  },
  {
   "cell_type": "code",
   "execution_count": 9,
   "id": "b808ddc4",
   "metadata": {},
   "outputs": [
    {
     "name": "stdout",
     "output_type": "stream",
     "text": [
      "'LAFUAQUKQG'\n"
     ]
    }
   ],
   "source": [
    "kb_id = knowledge_base.get_knowledge_base_id()"
   ]
  },
  {
   "cell_type": "markdown",
   "id": "315e0df7-4008-4fb4-b28d-a4df6ff446f6",
   "metadata": {
    "pycharm": {
     "name": "#%% md\n"
    }
   },
   "source": [
    "### Test the Knowledge Base\n",
    "Now the Knowlegde Base is available we can test it out using the [**retrieve**](https://boto3.amazonaws.com/v1/documentation/api/latest/reference/services/bedrock-agent-runtime/client/retrieve.html) and [**retrieve_and_generate**](https://boto3.amazonaws.com/v1/documentation/api/latest/reference/services/bedrock-agent-runtime/client/retrieve_and_generate.html) functions. \n",
    "\n",
    "#### Testing Knowledge Base with Retrieve and Generate API\n",
    "\n",
    "Let's first test the knowledge base using the retrieve and generate API. With this API, Bedrock takes care of retrieving the necessary references from the knowledge base and generating the final answer using a Bedrock LLM."
   ]
  },
  {
   "cell_type": "code",
   "execution_count": 10,
   "id": "f51d34d9",
   "metadata": {},
   "outputs": [
    {
     "name": "stdout",
     "output_type": "stream",
     "text": [
      "If interest rates have dropped by 2 percent, it may be a good time to consider refinancing your mortgage. One of the best reasons to refinance is to lower the interest rate on your existing loan. Historically, the rule of thumb is that refinancing is a good idea if you can reduce your interest rate by at least 2 percent. However, many lenders say 1 percent savings is enough of an incentive to refinance. Reducing your interest rate not only helps you save money, but it also increases the rate at which you build equity in your home, and it can decrease the size of your monthly payment. For example, a 30-year fixed-rate mortgage with an interest rate of 5.5% on a $100,000 home has a principal and interest payment of $568. That same loan at 4.1% reduces your payment to $477.\n",
      "\n"
     ]
    }
   ],
   "source": [
    "response = bedrock_agent_runtime_client.retrieve_and_generate(\n",
    "    input={\n",
    "        \"text\": \"interest rates just dropped by 2 percent, how should I think about the refinance decision?\"\n",
    "    },\n",
    "    retrieveAndGenerateConfiguration={\n",
    "        \"type\": \"KNOWLEDGE_BASE\",\n",
    "        \"knowledgeBaseConfiguration\": {\n",
    "            'knowledgeBaseId': kb_id,\n",
    "            \"modelArn\": f\"arn:aws:bedrock:{region}::foundation-model/{agent_foundation_models[0]}\",\n",
    "            \"retrievalConfiguration\": {\n",
    "                \"vectorSearchConfiguration\": {\n",
    "                    \"numberOfResults\":5\n",
    "                } \n",
    "            }\n",
    "        }\n",
    "    }\n",
    ")\n",
    "\n",
    "print(response['output']['text'],end='\\n'*2)"
   ]
  },
  {
   "cell_type": "markdown",
   "id": "e6e4235c",
   "metadata": {},
   "source": [
    "As you can see, with the retrieve and generate API we get the final response directly and we don't see the different sources used to generate this response. Let's now retrieve the source information from the knowledge base with the retrieve API.\n",
    "\n",
    "#### Testing Knowledge Base with Retrieve API\n",
    "If you need an extra layer of control, you can retrieve the chuncks that best match your query using the retrieve API. In this setup, we can configure the desired number of results and control the final answer with your own application logic. The API then provides you with the matching content, its S3 location, the similarity score and the chunk metadata"
   ]
  },
  {
   "cell_type": "code",
   "execution_count": 11,
   "id": "34a3f96b-926a-411c-bef7-38c4689fed7b",
   "metadata": {
    "pycharm": {
     "name": "#%%\n"
    },
    "tags": []
   },
   "outputs": [
    {
     "name": "stdout",
     "output_type": "stream",
     "text": [
      "-----------------------------------------------------------------------------------------\n",
      "Chunk 1:  Cost   \t30-Year Mortgage   \t15-Year Mortgage   \tSpecial Considerations   \tA Best-of-Both-Worlds Option   \tFAQs   \tThe Bottom Line                \tPersonal Finance \tMortgage    15-Year vs. 30-Year Mortgage: What's the Difference?   Much more than the amount of monthly payments       By  Christina Majaski                 Full Bio  \t       \t              Christina Majaski writes and edits finance, credit cards, and travel content. She has 14+ years of experience with print and digital publications.        Learn about our  editorial policies            Updated May 21, 2023        Reviewed by  Lea D. Uradu                    Reviewed by Lea D. Uradu    Full Bio  Lea Uradu, J.D. is a Maryland State Registered Tax Preparer, State Certified Notary Public, Certified VITA Tax Preparer, IRS Annual Filing Season Program Participant, and Tax Writer.          Learn about our  Financial Review Board                 Fact checked by  Ariel Courage                    Fact checked by Ariel Courage    Full Bio  Ariel Courage is an experienced editor, researcher, and former fact-checker. She has performed editing and fact-checking work for several leading finance publications, including The Motley Fool and Passport to Wall Street.          Learn about our  editorial policies                              15-Year vs. 30-Year Mortgage: An Overview      Fifteen-year and 30-year mortgages are structurally similar—the main difference is the term. While a 30-year mortgage can make your monthly payments more affordable, a 15-year mortgage generally costs less in the long run.        Most homebuyers choose a 30-year home loan.\n",
      "\n",
      "Chunk 1 Location:  {'s3Location': {'uri': \"s3://mac-workshop-us-east-1-355151823911/15-Year vs. 30-Year Mortgage What's the Difference .html\"}, 'type': 'S3'}\n",
      "\n",
      "Chunk 1 Score:  0.67249143\n",
      "\n",
      "Chunk 1 Metadata:  {'x-amz-bedrock-kb-source-uri': \"s3://mac-workshop-us-east-1-355151823911/15-Year vs. 30-Year Mortgage What's the Difference .html\"}\n",
      "\n",
      "-----------------------------------------------------------------------------------------\n",
      "Chunk 2:  But the shorter term makes the loan cheaper on several fronts. In fact, over the full life of a loan, a 30-year mortgage will end up costing more than double the 15-year option.﻿﻿          Because 15-year loans are less risky for banks than 30-year loans—and because it costs banks less to make shorter-term loans than longer-term loans—a 30-year mortgage typically comes with a higher interest rate.           30-Year Mortgage      In a 30-year mortgage, of course, that balance shrinks much more slowly—effectively, the homebuyer is borrowing the same amount of money for more than twice as long. In fact, it’s more than twice as long rather than just twice as long because, for a 30-year mortgage, the principal balance does not decline as fast as it does for a 15-year loan.        The higher the interest rate, the greater the gap between the two mortgages. When the interest rate is 4%, for example, the borrower actually pays almost 2.2 times more interest to borrow the same amount of principal over 30 years compared with a 15-year loan.        The chief advantage of a 30-year mortgage is the relatively low monthly payment. And even if affordability isn't an issue, there are other advantages:       \tThe lower payment may allow a borrower to buy more house than they would be able to afford with a 15-year loan since the same monthly payment would allow the borrower to take out a larger loan over 30 years. \tThe lower payment allows a borrower to build up savings. \tThe lower payment frees up funds for other goals.        Comparison shopping among the best mortgage lenders can help you narrow your options.         15-Year Mortgage      Consumers pay less on a 15-year mortgage—anywhere from a quarter of a percent to a full percent (or point) less, and over the decades that can really add up.        The government-supported agencies that back most mortgages, such as Fannie Mae and Freddie Mac, impose additional fees, called loan-level price adjustments, which make 30-year mortgages more expensive.        These fees typically apply to borrowers with lower credit scores, smaller down payments, or both.\n",
      "\n",
      "Chunk 2 Location:  {'s3Location': {'uri': \"s3://mac-workshop-us-east-1-355151823911/15-Year vs. 30-Year Mortgage What's the Difference .html\"}, 'type': 'S3'}\n",
      "\n",
      "Chunk 2 Score:  0.66647667\n",
      "\n",
      "Chunk 2 Metadata:  {'x-amz-bedrock-kb-source-uri': \"s3://mac-workshop-us-east-1-355151823911/15-Year vs. 30-Year Mortgage What's the Difference .html\"}\n",
      "\n",
      "-----------------------------------------------------------------------------------------\n",
      "Chunk 3:  Difference?   Much more than the amount of monthly payments       By  Christina Majaski                 Full Bio  \t       \t              Christina Majaski writes and edits finance, credit cards, and travel content. She has 14+ years of experience with print and digital publications.        Learn about our  editorial policies            Updated May 21, 2023        Reviewed by  Lea D. Uradu                    Reviewed by Lea D. Uradu    Full Bio  Lea Uradu, J.D. is a Maryland State Registered Tax Preparer, State Certified Notary Public, Certified VITA Tax Preparer, IRS Annual Filing Season Program Participant, and Tax Writer.          Learn about our  Financial Review Board                 Fact checked by  Ariel Courage                    Fact checked by Ariel Courage    Full Bio  Ariel Courage is an experienced editor, researcher, and former fact-checker. She has performed editing and fact-checking work for several leading finance publications, including The Motley Fool and Passport to Wall Street.          Learn about our  editorial policies                              15-Year vs. 30-Year Mortgage: An Overview      Fifteen-year and 30-year mortgages are structurally similar—the main difference is the term. While a 30-year mortgage can make your monthly payments more affordable, a 15-year mortgage generally costs less in the long run.        Most homebuyers choose a 30-year home loan. The 30-year fixed-rate mortgage is practically an American archetype, the apple pie of financial instruments. It is the path that generations of Americans have taken to first-time homeownership.        But many of those buyers might have been better served if they had opted for a 15-year fixed-rate mortgage instead.\n",
      "\n",
      "Chunk 3 Location:  {'s3Location': {'uri': \"s3://mac-workshop-us-east-1-355151823911/15-Year vs. 30-Year Mortgage What's the Difference .html\"}, 'type': 'S3'}\n",
      "\n",
      "Chunk 3 Score:  0.6600493\n",
      "\n",
      "Chunk 3 Metadata:  {'x-amz-bedrock-kb-source-uri': \"s3://mac-workshop-us-east-1-355151823911/15-Year vs. 30-Year Mortgage What's the Difference .html\"}\n",
      "\n"
     ]
    }
   ],
   "source": [
    "response_ret = bedrock_agent_runtime_client.retrieve(\n",
    "    knowledgeBaseId=kb_id, \n",
    "    nextToken='string',\n",
    "    retrievalConfiguration={\n",
    "        \"vectorSearchConfiguration\": {\n",
    "            \"numberOfResults\":3,\n",
    "        } \n",
    "    },\n",
    "    retrievalQuery={\n",
    "        'text': 'What are the cons of a 15-year mortgage?'\n",
    "    }\n",
    ")\n",
    "\n",
    "def response_print(retrieve_resp):\n",
    "    #structure 'retrievalResults': list of contents. Each list has content, location, score, metadata\n",
    "    for num,chunk in enumerate(response_ret['retrievalResults'],1):\n",
    "        print('-----------------------------------------------------------------------------------------')\n",
    "        print(f'Chunk {num}: ',chunk['content']['text'],end='\\n'*2)\n",
    "        print(f'Chunk {num} Location: ',chunk['location'],end='\\n'*2)\n",
    "        print(f'Chunk {num} Score: ',chunk['score'],end='\\n'*2)\n",
    "        print(f'Chunk {num} Metadata: ',chunk['metadata'],end='\\n'*2)\n",
    "\n",
    "response_print(response_ret)"
   ]
  },
  {
   "cell_type": "markdown",
   "id": "e032c452-4feb-406d-aa6e-b85a59aded79",
   "metadata": {
    "pycharm": {
     "name": "#%% md\n"
    }
   },
   "source": [
    "## 2. Create the Agent for managing existing mortgages\n",
    "\n",
    "In this section we will go through all the steps to create an Agent for Amazon Bedrock. \n",
    "\n",
    "These are the steps to complete:\n",
    "    \n",
    "1. Create the new agent (with the helper function taking care of IAM role creation)\n",
    "2. Add an action group backed by a new Lambda function (with the helper function handling IAM role creation, Lambda function creation, adding the action group to the agent, and preparing the agent)"
   ]
  },
  {
   "cell_type": "markdown",
   "id": "68871530-2953-4a37-854e-10323cabf095",
   "metadata": {
    "pycharm": {
     "name": "#%% md\n"
    }
   },
   "source": [
    "#### Create the Lambda function code\n",
    "Here we create a source code file for a new Lambda function to implement the action group for the Existing Mortgage agent. "
   ]
  },
  {
   "cell_type": "code",
   "execution_count": 16,
   "id": "12271f1f-4739-472b-8909-cc81c148a941",
   "metadata": {
    "pycharm": {
     "name": "#%%\n"
    },
    "tags": []
   },
   "outputs": [
    {
     "name": "stdout",
     "output_type": "stream",
     "text": [
      "Overwriting existing_mortgage_function.py\n"
     ]
    }
   ],
   "source": [
    "%%writefile existing_mortgage_function.py\n",
    "import json\n",
    "\n",
    "def get_named_parameter(event, name):\n",
    "    return next(item for item in event['parameters'] if item['name'] == name)['value']\n",
    "    \n",
    "def populate_function_response(event, response_body):\n",
    "    return {'response': {'actionGroup': event['actionGroup'], 'function': event['function'],\n",
    "                'functionResponse': {'responseBody': {'TEXT': {'body': str(response_body)}}}}}\n",
    "\n",
    "def get_mortgage_status(customer_id):\n",
    "    # TODO: Implement real business logic to retrieve mortgage status\n",
    "    return {\n",
    "        \"account_number\": customer_id,\n",
    "        \"outstanding_principal\": 150000.0,\n",
    "        \"interest_rate\": 4.5,\n",
    "        \"maturity_date\": \"2030-06-30\",\n",
    "        \"payments_remaining\": 72,\n",
    "        \"last_payment_date\": \"2024-06-01\",\n",
    "        \"next_payment_due\": \"2024-07-01\",\n",
    "        \"next_payment_amount\": 1250.0\n",
    "    }\n",
    "\n",
    "def lambda_handler(event, context):\n",
    "    print(event)\n",
    "    function = event['function']\n",
    "    if function == 'get_mortgage_status':\n",
    "        customer_id = get_named_parameter(event, 'customer_id')\n",
    "        if not customer_id:\n",
    "            raise Exception(\"Missing mandatory parameter: customer_id\")\n",
    "        result = get_mortgage_status(customer_id)\n",
    "    else:\n",
    "        result = f\"Error, function '{function}' not recognized\"\n",
    "\n",
    "    response = populate_function_response(event, result)\n",
    "    print(response)\n",
    "    return response"
   ]
  },
  {
   "cell_type": "markdown",
   "id": "cce8445b",
   "metadata": {},
   "source": [
    "Next, the function for getting mortgage application document status"
   ]
  },
  {
   "cell_type": "code",
   "execution_count": 17,
   "id": "cd270299",
   "metadata": {},
   "outputs": [
    {
     "name": "stdout",
     "output_type": "stream",
     "text": [
      "Overwriting mortgage_application_function.py\n"
     ]
    }
   ],
   "source": [
    "%%writefile mortgage_application_function.py\n",
    "import json\n",
    "\n",
    "def get_named_parameter(event, name):\n",
    "    return next(item for item in event['parameters'] if item['name'] == name)['value']\n",
    "    \n",
    "def populate_function_response(event, response_body):\n",
    "    return {'response': {'actionGroup': event['actionGroup'], 'function': event['function'],\n",
    "                'functionResponse': {'responseBody': {'TEXT': {'body': str(response_body)}}}}}\n",
    "\n",
    "def get_mortgage_application_document_status(customer_id):\n",
    "    # TODO: Implement the actual logic to retrieve the document status for the given customer ID\n",
    "    return [\n",
    "        {\n",
    "            \"type\": \"proof_of_income\",\n",
    "            \"status\": \"COMPLETED\"\n",
    "        },\n",
    "        {\n",
    "            \"type\": \"employment_information\",\n",
    "            \"status\": \"MISSING\"\n",
    "        },\n",
    "        {\n",
    "            \"type\": \"proof_of_assets\",\n",
    "            \"status\": \"COMPLETED\"\n",
    "        },\n",
    "        {\n",
    "            \"type\": \"credit_information\",\n",
    "            \"status\": \"COMPLETED\"\n",
    "        }\n",
    "    ]\n",
    "\n",
    "def lambda_handler(event, context):\n",
    "    function = event['function']\n",
    "\n",
    "    if function == 'get_mortgage_application_document_status':\n",
    "        customer_id = get_named_parameter(event, 'customer_id')\n",
    "        if not customer_id:\n",
    "            raise Exception(\"Missing mandatory parameter: customer_id\")\n",
    "        result = get_mortgage_application_document_status(customer_id)\n",
    "    else:\n",
    "        raise Exception(f\"Unrecognized function: {function}\")\n",
    "\n",
    "    response = populate_function_response(event, result)\n",
    "    print(response)\n",
    "    return response"
   ]
  },
  {
   "cell_type": "markdown",
   "id": "5ada4ccf",
   "metadata": {},
   "source": [
    "Now we create the agent itself, giving it a name, a brief description, and most importantly, a set of instructions."
   ]
  },
  {
   "cell_type": "code",
   "execution_count": 18,
   "id": "d1def983",
   "metadata": {},
   "outputs": [],
   "source": [
    "existing_mortgage_agent_id = agents.create_agent(\"existing_mortgage_agent\", \n",
    "\"\"\"\n",
    "you are a mortgage bot. you can retrieve the latest details about an existing mortgage on behalf of customers.\n",
    "\"\"\", \n",
    "\"\"\"\n",
    "you are a mortgage bot. you can retrieve the latest details about a user's current mortgage. resist the temptation to ask the user for input. \n",
    "only do so after you have exhausted available actions. never ask the user for information that you already can retrieve yourself through \n",
    "available actions. for example, you have actions to retrieve details about the existing mortgage (interest rate, balance, number of payments, \n",
    "mortgage maturity date, last payment date, next payment date, etc.). \n",
    "so never ask the user for those details (it would be very annoying).\n",
    "never make up information that you are unable to retrieve from your available actions. do not engage with users about topics other than\n",
    "an existing mortgage. leave those other topics for other experts to handle. for example, do not respond to general questions about mortgages.\n",
    "never make up the customer ID. always ask for it if you need it for using an available action, but don't yet have it. \n",
    "sending \"UNKNOWN\" as the customer ID to an action is not acceptable. confirm the ID with the user.\n",
    "\"\"\",\n",
    "\n",
    "                                                 agent_foundation_models)"
   ]
  },
  {
   "cell_type": "markdown",
   "id": "c1b45931",
   "metadata": {},
   "source": [
    "Lastly, we add an action group to the new agent, which also creates for us the new Lambda function, and prepares the agent.\n",
    "\n",
    "NOTE: we can use a simple PartyRock app to quickly generate both the Function Definitions and the draft Lambda function code based on\n",
    "a simple description of the action group API's to support. For this example, we could simply describe the desired api as:\n",
    "\n",
    "```\n",
    "single api to get mortgage status. takes a customer id. returns an object with a number of fields: account number, outstanding principal, interest rate, maturity date, number of payments remaining, due date of next payment, amount of next payment.\n",
    "```"
   ]
  },
  {
   "cell_type": "code",
   "execution_count": 19,
   "id": "6c33a04d",
   "metadata": {},
   "outputs": [],
   "source": [
    "resp = agents.add_action_group_with_lambda(\n",
    "            \"existing_mortgage_agent\", \n",
    "            \"existing_mortgage_ag\", \n",
    "            \"existing_mortgage_function.py\", \n",
    "            [\n",
    "                {\n",
    "                    \"name\": \"get_mortgage_status\",\n",
    "                    \"description\": \"\"\"\n",
    "                    Retrieves the mortgage status for a given customer ID. Returns an object containing the account number, \n",
    "                    outstanding principal, interest rate, maturity date, number of payments remaining, due date of next payment, \n",
    "                    and amount of next payment.\"\"\",\n",
    "                    \"parameters\": {\n",
    "                    \"customer_id\": {\n",
    "                        \"description\": \"The unique identifier for the customer whose mortgage status is being requested.\",\n",
    "                        \"type\": \"string\",\n",
    "                        \"required\": True\n",
    "                    }\n",
    "                    }\n",
    "                }\n",
    "            ], \n",
    "            \"existing_mortgage_actions\", \n",
    "            \"Set of functions for managing an existing mortgage\"\n",
    "            )"
   ]
  },
  {
   "cell_type": "code",
   "execution_count": 20,
   "id": "f02fc4fd",
   "metadata": {},
   "outputs": [
    {
     "name": "stdout",
     "output_type": "stream",
     "text": [
      "According to the mortgage information, your next payment is due on 2024-07-01.\n"
     ]
    }
   ],
   "source": [
    "print(agents.invoke(\"I'm customer 98991. when's my next payment due?\", existing_mortgage_agent_id))"
   ]
  },
  {
   "cell_type": "markdown",
   "id": "398ffef7",
   "metadata": {},
   "source": [
    "## 3. Create the Agent for managing an application for a new mortgage\n",
    "\n",
    "In this section we will go through all the steps to create an Agent for Amazon Bedrock. \n",
    "\n",
    "These are the steps to complete:\n",
    "    \n",
    "1. Create the new agent (with the helper function taking care of IAM role creation)\n",
    "2. Add an action group backed by a new Lambda function (with the helper function handling IAM role creation, Lambda function creation, adding the action group to the agent, and preparing the agent)"
   ]
  },
  {
   "cell_type": "code",
   "execution_count": 21,
   "id": "e7ccbfa0",
   "metadata": {},
   "outputs": [],
   "source": [
    "mortgage_application_agent_id = agents.create_agent(\"mortgage_application_agent\", \n",
    "\"\"\"\n",
    "you are a bot to create, manage, and complete an application for a new mortgage. you help customers know what documentation \n",
    "they already provided and which ones they still need to provide.\n",
    "\"\"\", \n",
    "\"\"\"\n",
    "you are a mortgage bot for creating, managing, and completing an application for a new mortgage. \n",
    "you can help customers know what documentation they have already provided and which ones they still need to provide.\n",
    "never make up information that you are unable to retrieve from your available actions. do not engage with users about topics other than\n",
    "an existing mortgage. leave those other topics for other experts to handle. for example, do not respond to general questions about mortgages.\n",
    "\"\"\",\n",
    "\n",
    "                                                 agent_foundation_models)"
   ]
  },
  {
   "cell_type": "markdown",
   "id": "e02cce40",
   "metadata": {},
   "source": [
    "Lastly, we add an action group to the new agent, which also creates for us the new Lambda function, and prepares the agent.\n",
    "\n",
    "NOTE: we can use a simple PartyRock app to quickly generate both the Function Definitions and the draft Lambda function code based on\n",
    "a simple description of the action group API's to support. For this example, we could simply describe the desired api as:\n",
    "\n",
    "```\n",
    "single api to get the list of documents required to complete a mortgage application that is in process, and the status of each one. the api takes in a customer id, and gives back a list of objects, one for each required document. each object has the type of the required document, and the status (COMPLETED or MISSING). the required document types are proof of income, employment information, proof of assets, and credit information. the list contains one object for each of these document types.\n",
    "```"
   ]
  },
  {
   "cell_type": "code",
   "execution_count": 22,
   "id": "bbd05ca5",
   "metadata": {},
   "outputs": [],
   "source": [
    "resp = agents.add_action_group_with_lambda(\n",
    "            \"mortgage_application_agent\", \n",
    "            \"mortgage_application_ag\", \n",
    "            \"mortgage_application_function.py\", \n",
    "            [\n",
    "                {\n",
    "                    \"name\": \"get_mortgage_application_document_status\",\n",
    "                    \"description\": \"\"\"\n",
    "                    Retrieves the list of required documents for a mortgage application in process, \n",
    "                    along with their respective statuses (COMPLETED or MISSING). \n",
    "                    The function takes a customer ID as input and returns a list of objects, where each object represents \n",
    "                    a required document type. The required document types are proof of income, employment information, \n",
    "                    proof of assets, and credit information. Each object in the returned list contains the type of the \n",
    "                    required document and its corresponding status.\"\"\",\n",
    "                    \"parameters\": {\n",
    "                    \"customer_id\": {\n",
    "                        \"description\": \"\"\"\n",
    "                    The unique identifier of the customer whose mortgage application document status is to be retrieved.\"\"\",\n",
    "                        \"type\": \"string\",\n",
    "                        \"required\": True\n",
    "                    }\n",
    "                    }\n",
    "                }\n",
    "            ], \n",
    "            \"mortgage_application_actions\", \n",
    "            \"Set of functions for managing an application for a new mortgage\"\n",
    "            )"
   ]
  },
  {
   "cell_type": "code",
   "execution_count": 23,
   "id": "20876b6d",
   "metadata": {},
   "outputs": [
    {
     "name": "stdout",
     "output_type": "stream",
     "text": [
      "According to our records, you have provided the following documents for your mortgage application:\n",
      "- Proof of income\n",
      "- Proof of assets \n",
      "- Credit information\n",
      "\n",
      "However, you are still missing the following document:\n",
      "- Employment information\n",
      "\n",
      "Please submit the employment information document as soon as possible so we can continue processing your mortgage application. Let me know if you have any other questions!\n"
     ]
    }
   ],
   "source": [
    "print(agents.invoke(\"I'm customer 98991. what docs do I still owe you?\", \n",
    "                    mortgage_application_agent_id))"
   ]
  },
  {
   "cell_type": "markdown",
   "id": "e8ff72dc",
   "metadata": {},
   "source": [
    "## 4. Use session attributes to provide context to the agent"
   ]
  },
  {
   "cell_type": "code",
   "execution_count": 24,
   "id": "2746a8bf",
   "metadata": {},
   "outputs": [
    {
     "data": {
      "text/plain": [
       "{'promptSessionAttributes': {'customer_ID': '498', 'today': 'Jun-01-2024'}}"
      ]
     },
     "execution_count": 24,
     "metadata": {},
     "output_type": "execute_result"
    }
   ],
   "source": [
    "from datetime import datetime\n",
    "today = datetime.today().strftime('%b-%d-%Y')\n",
    "\n",
    "session_state = {\n",
    "    \"promptSessionAttributes\": {\n",
    "        \"customer_ID\": \"498\",\n",
    "        \"today\": today\n",
    "    }\n",
    "}\n",
    "session_state"
   ]
  },
  {
   "cell_type": "markdown",
   "id": "9c3da026",
   "metadata": {},
   "source": [
    "Here I ask the agent a question that requires a customer ID, and it succeeds without having to prompt the user."
   ]
  },
  {
   "cell_type": "code",
   "execution_count": 29,
   "id": "293fdfeb",
   "metadata": {},
   "outputs": [
    {
     "name": "stdout",
     "output_type": "stream",
     "text": [
      "According to the information I have, you have already provided the following documents for your mortgage application:\n",
      "- Proof of income\n",
      "- Proof of assets\n",
      "\n",
      "However, you still need to provide the following document:\n",
      "- Employment information\n",
      "\n",
      "Please submit the missing employment information document as soon as possible so we can continue processing your mortgage application.\n"
     ]
    }
   ],
   "source": [
    "print(agents.invoke(\"what docs do I still owe you?\", \n",
    "                    mortgage_application_agent_id, session_id=\"123\",\n",
    "                    session_state=session_state))"
   ]
  },
  {
   "cell_type": "code",
   "execution_count": 30,
   "id": "c7e826da",
   "metadata": {},
   "outputs": [
    {
     "name": "stdout",
     "output_type": "stream",
     "text": [
      "There are approximately 6 years until your mortgage maturity date.\n"
     ]
    }
   ],
   "source": [
    "print(agents.invoke(\"how many years until my maturity date?\", \n",
    "                    existing_mortgage_agent_id, session_id=\"123\",\n",
    "                    session_state=session_state))"
   ]
  },
  {
   "cell_type": "code",
   "execution_count": 31,
   "id": "103a93a6",
   "metadata": {},
   "outputs": [
    {
     "name": "stdout",
     "output_type": "stream",
     "text": [
      "There are 30 days until your next mortgage payment.\n"
     ]
    }
   ],
   "source": [
    "print(agents.invoke(\"how many days until my next payment?\", \n",
    "                    existing_mortgage_agent_id, session_id=\"123\",\n",
    "                    session_state=session_state))"
   ]
  },
  {
   "cell_type": "markdown",
   "id": "cd84f967",
   "metadata": {},
   "source": [
    "## 5. Quick performance test"
   ]
  },
  {
   "cell_type": "code",
   "execution_count": 32,
   "id": "38c99cdf",
   "metadata": {},
   "outputs": [],
   "source": [
    "import uuid \n",
    "import time\n",
    "import numpy as np\n",
    "\n",
    "def query_loop_by_direct_invoke(query, agent_id, num_invokes):\n",
    "    latencies = []\n",
    "    for i in range(num_invokes):\n",
    "        _session_id = str(uuid.uuid1())\n",
    "        _start_time = time.time()\n",
    "        resp = agents.invoke(query, agent_id, session_id=_session_id)\n",
    "        _end_time = time.time()\n",
    "        latencies.append(_end_time - _start_time)\n",
    "\n",
    "    print(f'\\n\\nInvoked agent directly {num_invokes} times.')\n",
    "    # get sum of total latencies\n",
    "    total_time = sum(latencies)\n",
    "    # get average latency\n",
    "    avg_time = total_time / num_invokes\n",
    "    # get p90 latency\n",
    "    p90_time = np.percentile(latencies, 90)\n",
    "\n",
    "    print(f'Average latency: {avg_time:.1f}, P90 latency: {p90_time:.1f}')"
   ]
  },
  {
   "cell_type": "code",
   "execution_count": 33,
   "id": "dd568401",
   "metadata": {},
   "outputs": [
    {
     "name": "stdout",
     "output_type": "stream",
     "text": [
      "\n",
      "\n",
      "Invoked agent directly 25 times.\n",
      "Average latency: 3.0, P90 latency: 3.4\n"
     ]
    }
   ],
   "source": [
    "query_loop_by_direct_invoke(\"I am customer 999. how many years until the mortgage maturity date?\", \n",
    "                            existing_mortgage_agent_id, 25)"
   ]
  },
  {
   "cell_type": "markdown",
   "id": "ba725a70",
   "metadata": {},
   "source": [
    "## 6. Clean up"
   ]
  },
  {
   "cell_type": "markdown",
   "id": "e45f5c96",
   "metadata": {},
   "source": [
    "NOTE: Don't execute the deletion cells if you are planning to proceed \n",
    "to subsequent notebooks, as those notebooks depend on the existence\n",
    "of these agents and knowledge bases."
   ]
  },
  {
   "cell_type": "code",
   "execution_count": 15,
   "id": "3cccc4e5",
   "metadata": {},
   "outputs": [],
   "source": [
    "agents.delete_lambda(\"existing_mortgage_ag\")\n",
    "agents.delete_agent(\"existing_mortgage_agent\")\n",
    "\n",
    "agents.delete_lambda(\"mortgage_application_ag\")\n",
    "agents.delete_agent(\"mortgage_application_agent\")"
   ]
  },
  {
   "cell_type": "code",
   "execution_count": null,
   "id": "8c2e5a47",
   "metadata": {},
   "outputs": [],
   "source": [
    "knowledge_base.delete_kb()"
   ]
  }
 ],
 "metadata": {
  "availableInstances": [
   {
    "_defaultOrder": 0,
    "_isFastLaunch": true,
    "category": "General purpose",
    "gpuNum": 0,
    "hideHardwareSpecs": false,
    "memoryGiB": 4,
    "name": "ml.t3.medium",
    "vcpuNum": 2
   },
   {
    "_defaultOrder": 1,
    "_isFastLaunch": false,
    "category": "General purpose",
    "gpuNum": 0,
    "hideHardwareSpecs": false,
    "memoryGiB": 8,
    "name": "ml.t3.large",
    "vcpuNum": 2
   },
   {
    "_defaultOrder": 2,
    "_isFastLaunch": false,
    "category": "General purpose",
    "gpuNum": 0,
    "hideHardwareSpecs": false,
    "memoryGiB": 16,
    "name": "ml.t3.xlarge",
    "vcpuNum": 4
   },
   {
    "_defaultOrder": 3,
    "_isFastLaunch": false,
    "category": "General purpose",
    "gpuNum": 0,
    "hideHardwareSpecs": false,
    "memoryGiB": 32,
    "name": "ml.t3.2xlarge",
    "vcpuNum": 8
   },
   {
    "_defaultOrder": 4,
    "_isFastLaunch": true,
    "category": "General purpose",
    "gpuNum": 0,
    "hideHardwareSpecs": false,
    "memoryGiB": 8,
    "name": "ml.m5.large",
    "vcpuNum": 2
   },
   {
    "_defaultOrder": 5,
    "_isFastLaunch": false,
    "category": "General purpose",
    "gpuNum": 0,
    "hideHardwareSpecs": false,
    "memoryGiB": 16,
    "name": "ml.m5.xlarge",
    "vcpuNum": 4
   },
   {
    "_defaultOrder": 6,
    "_isFastLaunch": false,
    "category": "General purpose",
    "gpuNum": 0,
    "hideHardwareSpecs": false,
    "memoryGiB": 32,
    "name": "ml.m5.2xlarge",
    "vcpuNum": 8
   },
   {
    "_defaultOrder": 7,
    "_isFastLaunch": false,
    "category": "General purpose",
    "gpuNum": 0,
    "hideHardwareSpecs": false,
    "memoryGiB": 64,
    "name": "ml.m5.4xlarge",
    "vcpuNum": 16
   },
   {
    "_defaultOrder": 8,
    "_isFastLaunch": false,
    "category": "General purpose",
    "gpuNum": 0,
    "hideHardwareSpecs": false,
    "memoryGiB": 128,
    "name": "ml.m5.8xlarge",
    "vcpuNum": 32
   },
   {
    "_defaultOrder": 9,
    "_isFastLaunch": false,
    "category": "General purpose",
    "gpuNum": 0,
    "hideHardwareSpecs": false,
    "memoryGiB": 192,
    "name": "ml.m5.12xlarge",
    "vcpuNum": 48
   },
   {
    "_defaultOrder": 10,
    "_isFastLaunch": false,
    "category": "General purpose",
    "gpuNum": 0,
    "hideHardwareSpecs": false,
    "memoryGiB": 256,
    "name": "ml.m5.16xlarge",
    "vcpuNum": 64
   },
   {
    "_defaultOrder": 11,
    "_isFastLaunch": false,
    "category": "General purpose",
    "gpuNum": 0,
    "hideHardwareSpecs": false,
    "memoryGiB": 384,
    "name": "ml.m5.24xlarge",
    "vcpuNum": 96
   },
   {
    "_defaultOrder": 12,
    "_isFastLaunch": false,
    "category": "General purpose",
    "gpuNum": 0,
    "hideHardwareSpecs": false,
    "memoryGiB": 8,
    "name": "ml.m5d.large",
    "vcpuNum": 2
   },
   {
    "_defaultOrder": 13,
    "_isFastLaunch": false,
    "category": "General purpose",
    "gpuNum": 0,
    "hideHardwareSpecs": false,
    "memoryGiB": 16,
    "name": "ml.m5d.xlarge",
    "vcpuNum": 4
   },
   {
    "_defaultOrder": 14,
    "_isFastLaunch": false,
    "category": "General purpose",
    "gpuNum": 0,
    "hideHardwareSpecs": false,
    "memoryGiB": 32,
    "name": "ml.m5d.2xlarge",
    "vcpuNum": 8
   },
   {
    "_defaultOrder": 15,
    "_isFastLaunch": false,
    "category": "General purpose",
    "gpuNum": 0,
    "hideHardwareSpecs": false,
    "memoryGiB": 64,
    "name": "ml.m5d.4xlarge",
    "vcpuNum": 16
   },
   {
    "_defaultOrder": 16,
    "_isFastLaunch": false,
    "category": "General purpose",
    "gpuNum": 0,
    "hideHardwareSpecs": false,
    "memoryGiB": 128,
    "name": "ml.m5d.8xlarge",
    "vcpuNum": 32
   },
   {
    "_defaultOrder": 17,
    "_isFastLaunch": false,
    "category": "General purpose",
    "gpuNum": 0,
    "hideHardwareSpecs": false,
    "memoryGiB": 192,
    "name": "ml.m5d.12xlarge",
    "vcpuNum": 48
   },
   {
    "_defaultOrder": 18,
    "_isFastLaunch": false,
    "category": "General purpose",
    "gpuNum": 0,
    "hideHardwareSpecs": false,
    "memoryGiB": 256,
    "name": "ml.m5d.16xlarge",
    "vcpuNum": 64
   },
   {
    "_defaultOrder": 19,
    "_isFastLaunch": false,
    "category": "General purpose",
    "gpuNum": 0,
    "hideHardwareSpecs": false,
    "memoryGiB": 384,
    "name": "ml.m5d.24xlarge",
    "vcpuNum": 96
   },
   {
    "_defaultOrder": 20,
    "_isFastLaunch": false,
    "category": "General purpose",
    "gpuNum": 0,
    "hideHardwareSpecs": true,
    "memoryGiB": 0,
    "name": "ml.geospatial.interactive",
    "supportedImageNames": [
     "sagemaker-geospatial-v1-0"
    ],
    "vcpuNum": 0
   },
   {
    "_defaultOrder": 21,
    "_isFastLaunch": true,
    "category": "Compute optimized",
    "gpuNum": 0,
    "hideHardwareSpecs": false,
    "memoryGiB": 4,
    "name": "ml.c5.large",
    "vcpuNum": 2
   },
   {
    "_defaultOrder": 22,
    "_isFastLaunch": false,
    "category": "Compute optimized",
    "gpuNum": 0,
    "hideHardwareSpecs": false,
    "memoryGiB": 8,
    "name": "ml.c5.xlarge",
    "vcpuNum": 4
   },
   {
    "_defaultOrder": 23,
    "_isFastLaunch": false,
    "category": "Compute optimized",
    "gpuNum": 0,
    "hideHardwareSpecs": false,
    "memoryGiB": 16,
    "name": "ml.c5.2xlarge",
    "vcpuNum": 8
   },
   {
    "_defaultOrder": 24,
    "_isFastLaunch": false,
    "category": "Compute optimized",
    "gpuNum": 0,
    "hideHardwareSpecs": false,
    "memoryGiB": 32,
    "name": "ml.c5.4xlarge",
    "vcpuNum": 16
   },
   {
    "_defaultOrder": 25,
    "_isFastLaunch": false,
    "category": "Compute optimized",
    "gpuNum": 0,
    "hideHardwareSpecs": false,
    "memoryGiB": 72,
    "name": "ml.c5.9xlarge",
    "vcpuNum": 36
   },
   {
    "_defaultOrder": 26,
    "_isFastLaunch": false,
    "category": "Compute optimized",
    "gpuNum": 0,
    "hideHardwareSpecs": false,
    "memoryGiB": 96,
    "name": "ml.c5.12xlarge",
    "vcpuNum": 48
   },
   {
    "_defaultOrder": 27,
    "_isFastLaunch": false,
    "category": "Compute optimized",
    "gpuNum": 0,
    "hideHardwareSpecs": false,
    "memoryGiB": 144,
    "name": "ml.c5.18xlarge",
    "vcpuNum": 72
   },
   {
    "_defaultOrder": 28,
    "_isFastLaunch": false,
    "category": "Compute optimized",
    "gpuNum": 0,
    "hideHardwareSpecs": false,
    "memoryGiB": 192,
    "name": "ml.c5.24xlarge",
    "vcpuNum": 96
   },
   {
    "_defaultOrder": 29,
    "_isFastLaunch": true,
    "category": "Accelerated computing",
    "gpuNum": 1,
    "hideHardwareSpecs": false,
    "memoryGiB": 16,
    "name": "ml.g4dn.xlarge",
    "vcpuNum": 4
   },
   {
    "_defaultOrder": 30,
    "_isFastLaunch": false,
    "category": "Accelerated computing",
    "gpuNum": 1,
    "hideHardwareSpecs": false,
    "memoryGiB": 32,
    "name": "ml.g4dn.2xlarge",
    "vcpuNum": 8
   },
   {
    "_defaultOrder": 31,
    "_isFastLaunch": false,
    "category": "Accelerated computing",
    "gpuNum": 1,
    "hideHardwareSpecs": false,
    "memoryGiB": 64,
    "name": "ml.g4dn.4xlarge",
    "vcpuNum": 16
   },
   {
    "_defaultOrder": 32,
    "_isFastLaunch": false,
    "category": "Accelerated computing",
    "gpuNum": 1,
    "hideHardwareSpecs": false,
    "memoryGiB": 128,
    "name": "ml.g4dn.8xlarge",
    "vcpuNum": 32
   },
   {
    "_defaultOrder": 33,
    "_isFastLaunch": false,
    "category": "Accelerated computing",
    "gpuNum": 4,
    "hideHardwareSpecs": false,
    "memoryGiB": 192,
    "name": "ml.g4dn.12xlarge",
    "vcpuNum": 48
   },
   {
    "_defaultOrder": 34,
    "_isFastLaunch": false,
    "category": "Accelerated computing",
    "gpuNum": 1,
    "hideHardwareSpecs": false,
    "memoryGiB": 256,
    "name": "ml.g4dn.16xlarge",
    "vcpuNum": 64
   },
   {
    "_defaultOrder": 35,
    "_isFastLaunch": false,
    "category": "Accelerated computing",
    "gpuNum": 1,
    "hideHardwareSpecs": false,
    "memoryGiB": 61,
    "name": "ml.p3.2xlarge",
    "vcpuNum": 8
   },
   {
    "_defaultOrder": 36,
    "_isFastLaunch": false,
    "category": "Accelerated computing",
    "gpuNum": 4,
    "hideHardwareSpecs": false,
    "memoryGiB": 244,
    "name": "ml.p3.8xlarge",
    "vcpuNum": 32
   },
   {
    "_defaultOrder": 37,
    "_isFastLaunch": false,
    "category": "Accelerated computing",
    "gpuNum": 8,
    "hideHardwareSpecs": false,
    "memoryGiB": 488,
    "name": "ml.p3.16xlarge",
    "vcpuNum": 64
   },
   {
    "_defaultOrder": 38,
    "_isFastLaunch": false,
    "category": "Accelerated computing",
    "gpuNum": 8,
    "hideHardwareSpecs": false,
    "memoryGiB": 768,
    "name": "ml.p3dn.24xlarge",
    "vcpuNum": 96
   },
   {
    "_defaultOrder": 39,
    "_isFastLaunch": false,
    "category": "Memory Optimized",
    "gpuNum": 0,
    "hideHardwareSpecs": false,
    "memoryGiB": 16,
    "name": "ml.r5.large",
    "vcpuNum": 2
   },
   {
    "_defaultOrder": 40,
    "_isFastLaunch": false,
    "category": "Memory Optimized",
    "gpuNum": 0,
    "hideHardwareSpecs": false,
    "memoryGiB": 32,
    "name": "ml.r5.xlarge",
    "vcpuNum": 4
   },
   {
    "_defaultOrder": 41,
    "_isFastLaunch": false,
    "category": "Memory Optimized",
    "gpuNum": 0,
    "hideHardwareSpecs": false,
    "memoryGiB": 64,
    "name": "ml.r5.2xlarge",
    "vcpuNum": 8
   },
   {
    "_defaultOrder": 42,
    "_isFastLaunch": false,
    "category": "Memory Optimized",
    "gpuNum": 0,
    "hideHardwareSpecs": false,
    "memoryGiB": 128,
    "name": "ml.r5.4xlarge",
    "vcpuNum": 16
   },
   {
    "_defaultOrder": 43,
    "_isFastLaunch": false,
    "category": "Memory Optimized",
    "gpuNum": 0,
    "hideHardwareSpecs": false,
    "memoryGiB": 256,
    "name": "ml.r5.8xlarge",
    "vcpuNum": 32
   },
   {
    "_defaultOrder": 44,
    "_isFastLaunch": false,
    "category": "Memory Optimized",
    "gpuNum": 0,
    "hideHardwareSpecs": false,
    "memoryGiB": 384,
    "name": "ml.r5.12xlarge",
    "vcpuNum": 48
   },
   {
    "_defaultOrder": 45,
    "_isFastLaunch": false,
    "category": "Memory Optimized",
    "gpuNum": 0,
    "hideHardwareSpecs": false,
    "memoryGiB": 512,
    "name": "ml.r5.16xlarge",
    "vcpuNum": 64
   },
   {
    "_defaultOrder": 46,
    "_isFastLaunch": false,
    "category": "Memory Optimized",
    "gpuNum": 0,
    "hideHardwareSpecs": false,
    "memoryGiB": 768,
    "name": "ml.r5.24xlarge",
    "vcpuNum": 96
   },
   {
    "_defaultOrder": 47,
    "_isFastLaunch": false,
    "category": "Accelerated computing",
    "gpuNum": 1,
    "hideHardwareSpecs": false,
    "memoryGiB": 16,
    "name": "ml.g5.xlarge",
    "vcpuNum": 4
   },
   {
    "_defaultOrder": 48,
    "_isFastLaunch": false,
    "category": "Accelerated computing",
    "gpuNum": 1,
    "hideHardwareSpecs": false,
    "memoryGiB": 32,
    "name": "ml.g5.2xlarge",
    "vcpuNum": 8
   },
   {
    "_defaultOrder": 49,
    "_isFastLaunch": false,
    "category": "Accelerated computing",
    "gpuNum": 1,
    "hideHardwareSpecs": false,
    "memoryGiB": 64,
    "name": "ml.g5.4xlarge",
    "vcpuNum": 16
   },
   {
    "_defaultOrder": 50,
    "_isFastLaunch": false,
    "category": "Accelerated computing",
    "gpuNum": 1,
    "hideHardwareSpecs": false,
    "memoryGiB": 128,
    "name": "ml.g5.8xlarge",
    "vcpuNum": 32
   },
   {
    "_defaultOrder": 51,
    "_isFastLaunch": false,
    "category": "Accelerated computing",
    "gpuNum": 1,
    "hideHardwareSpecs": false,
    "memoryGiB": 256,
    "name": "ml.g5.16xlarge",
    "vcpuNum": 64
   },
   {
    "_defaultOrder": 52,
    "_isFastLaunch": false,
    "category": "Accelerated computing",
    "gpuNum": 4,
    "hideHardwareSpecs": false,
    "memoryGiB": 192,
    "name": "ml.g5.12xlarge",
    "vcpuNum": 48
   },
   {
    "_defaultOrder": 53,
    "_isFastLaunch": false,
    "category": "Accelerated computing",
    "gpuNum": 4,
    "hideHardwareSpecs": false,
    "memoryGiB": 384,
    "name": "ml.g5.24xlarge",
    "vcpuNum": 96
   },
   {
    "_defaultOrder": 54,
    "_isFastLaunch": false,
    "category": "Accelerated computing",
    "gpuNum": 8,
    "hideHardwareSpecs": false,
    "memoryGiB": 768,
    "name": "ml.g5.48xlarge",
    "vcpuNum": 192
   },
   {
    "_defaultOrder": 55,
    "_isFastLaunch": false,
    "category": "Accelerated computing",
    "gpuNum": 8,
    "hideHardwareSpecs": false,
    "memoryGiB": 1152,
    "name": "ml.p4d.24xlarge",
    "vcpuNum": 96
   },
   {
    "_defaultOrder": 56,
    "_isFastLaunch": false,
    "category": "Accelerated computing",
    "gpuNum": 8,
    "hideHardwareSpecs": false,
    "memoryGiB": 1152,
    "name": "ml.p4de.24xlarge",
    "vcpuNum": 96
   },
   {
    "_defaultOrder": 57,
    "_isFastLaunch": false,
    "category": "Accelerated computing",
    "gpuNum": 0,
    "hideHardwareSpecs": false,
    "memoryGiB": 32,
    "name": "ml.trn1.2xlarge",
    "vcpuNum": 8
   },
   {
    "_defaultOrder": 58,
    "_isFastLaunch": false,
    "category": "Accelerated computing",
    "gpuNum": 0,
    "hideHardwareSpecs": false,
    "memoryGiB": 512,
    "name": "ml.trn1.32xlarge",
    "vcpuNum": 128
   },
   {
    "_defaultOrder": 59,
    "_isFastLaunch": false,
    "category": "Accelerated computing",
    "gpuNum": 0,
    "hideHardwareSpecs": false,
    "memoryGiB": 512,
    "name": "ml.trn1n.32xlarge",
    "vcpuNum": 128
   }
  ],
  "instance_type": "ml.t3.medium",
  "kernelspec": {
   "display_name": "Python 3 (ipykernel)",
   "language": "python",
   "name": "python3"
  },
  "language_info": {
   "codemirror_mode": {
    "name": "ipython",
    "version": 3
   },
   "file_extension": ".py",
   "mimetype": "text/x-python",
   "name": "python",
   "nbconvert_exporter": "python",
   "pygments_lexer": "ipython3",
   "version": "3.11.3"
  }
 },
 "nbformat": 4,
 "nbformat_minor": 5
}
