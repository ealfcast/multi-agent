{
 "cells": [
  {
   "cell_type": "markdown",
   "id": "c12918a0",
   "metadata": {},
   "source": [
    "# Create and use a Supervisor Agent to orchestrate multiple sub-agents and a knowledge base"
   ]
  },
  {
   "cell_type": "markdown",
   "id": "9fcecc32",
   "metadata": {},
   "source": [
    "#### Benefits of supervisor agent\n",
    "\n",
    "1. Future: parallel, LT memory\n",
    "2. Guardrails\n",
    "3. Multi-step planning and execution\n",
    "\n",
    "#### Sample dialog w/ supervisor agent\n",
    "\n",
    "1. what's my balance [asks for customer id]\n",
    "2. cool, when's my next pmt due \n",
    "3. refi rates are down to 3.5. dude, should i refi?\n",
    "4. I'm also applying for a new mortgage. can you remind me if I've got any other docs I'm supposed to get you?"
   ]
  },
  {
   "cell_type": "markdown",
   "id": "4fa67d7a",
   "metadata": {
    "pycharm": {
     "name": "#%% md\n"
    }
   },
   "source": [
    "First step is to install the pre-requisites packages"
   ]
  },
  {
   "cell_type": "code",
   "execution_count": 1,
   "id": "ac05c073-d45b-4d85-9bf8-ae10aa78be8d",
   "metadata": {
    "pycharm": {
     "name": "#%%\n"
    },
    "tags": []
   },
   "outputs": [],
   "source": [
    "# !pip install --upgrade -q -r requirements.txt\n",
    "# !pip install --upgrade -q boto3 botocore awscli "
   ]
  },
  {
   "cell_type": "code",
   "execution_count": 2,
   "id": "e8ad6ec2-b283-4c5d-879f-e397e46568c0",
   "metadata": {
    "pycharm": {
     "name": "#%%\n"
    },
    "tags": []
   },
   "outputs": [
    {
     "name": "stdout",
     "output_type": "stream",
     "text": [
      "boto3 version: 1.34.117\n"
     ]
    }
   ],
   "source": [
    "import boto3\n",
    "print(f'boto3 version: {boto3.__version__}')\n",
    "import logging\n",
    "\n",
    "%load_ext autoreload\n",
    "%autoreload 2\n",
    "\n",
    "from knowledge_base import BedrockKnowledgeBase\n",
    "from agent import AgentsForAmazonBedrock"
   ]
  },
  {
   "cell_type": "code",
   "execution_count": 3,
   "id": "d2b2d607-c1f2-4cbb-9f89-d935676e0101",
   "metadata": {
    "pycharm": {
     "name": "#%%\n"
    },
    "tags": []
   },
   "outputs": [],
   "source": [
    "#Clients\n",
    "s3_client = boto3.client('s3')\n",
    "sts_client = boto3.client('sts')\n",
    "session = boto3.session.Session()\n",
    "bedrock_agent_client = boto3.client('bedrock-agent')\n",
    "bedrock_agent_runtime_client = boto3.client('bedrock-agent-runtime')\n",
    "\n",
    "logging.basicConfig(format='[%(asctime)s] p%(process)s {%(filename)s:%(lineno)d} %(levelname)s - %(message)s', level=logging.INFO)\n",
    "logger = logging.getLogger(__name__)"
   ]
  },
  {
   "cell_type": "code",
   "execution_count": 4,
   "id": "d647d2a3",
   "metadata": {
    "pycharm": {
     "name": "#%%\n"
    },
    "tags": []
   },
   "outputs": [],
   "source": [
    "region = session.region_name\n",
    "account_id = sts_client.get_caller_identity()[\"Account\"]\n",
    "\n",
    "suffix = f\"{region}-{account_id}\"\n",
    "bucket_name = f'mac-workshop-{suffix}'\n",
    "agent_foundation_models = [\n",
    "    \"anthropic.claude-3-haiku-20240307-v1:0\",\n",
    "    \"anthropic.claude-3-sonnet-20240229-v1:0\", \n",
    "    ]"
   ]
  },
  {
   "cell_type": "code",
   "execution_count": 5,
   "id": "31994238",
   "metadata": {},
   "outputs": [],
   "source": [
    "agents = AgentsForAmazonBedrock()"
   ]
  },
  {
   "cell_type": "markdown",
   "id": "6b76a957",
   "metadata": {},
   "source": [
    "## 1. Make a Supervisor Agent on top of existing agents"
   ]
  },
  {
   "cell_type": "markdown",
   "id": "c1771081",
   "metadata": {},
   "source": [
    "#### Review Lambda implementation for Supervisor agent\n",
    "Take a look at this reusable Lambda function which implements an Agent Action Group for a supervisor agent.\n",
    "Based on an environment variable provided to the Lambda, the function knows which sub-agents it supports.\n",
    "The signature to each agent is identical. Thus, dispatching is generic and invocation is as well."
   ]
  },
  {
   "cell_type": "code",
   "execution_count": 6,
   "id": "fa2b25b2",
   "metadata": {},
   "outputs": [
    {
     "name": "stdout",
     "output_type": "stream",
     "text": [
      "\u001b[34mimport\u001b[39;49;00m \u001b[04m\u001b[36mjson\u001b[39;49;00m\u001b[37m\u001b[39;49;00m\n",
      "\u001b[34mimport\u001b[39;49;00m \u001b[04m\u001b[36mboto3\u001b[39;49;00m\u001b[37m\u001b[39;49;00m\n",
      "\u001b[37m\u001b[39;49;00m\n",
      "bedrock_agent_client = boto3.client(\u001b[33m'\u001b[39;49;00m\u001b[33mbedrock-agent\u001b[39;49;00m\u001b[33m'\u001b[39;49;00m)\u001b[37m\u001b[39;49;00m\n",
      "bedrock_agent_runtime_client = boto3.client(\u001b[33m'\u001b[39;49;00m\u001b[33mbedrock-agent-runtime\u001b[39;49;00m\u001b[33m'\u001b[39;49;00m)\u001b[37m\u001b[39;49;00m\n",
      "\u001b[37m\u001b[39;49;00m\n",
      "\u001b[37m# Prepare a dictionary of function names and agent id's based on \u001b[39;49;00m\u001b[37m\u001b[39;49;00m\n",
      "\u001b[37m# the agent id list in the evironment variable. Makes this Lambda function\u001b[39;49;00m\u001b[37m\u001b[39;49;00m\n",
      "\u001b[37m# reusable as a Supervisor Agent implementation for any collection of sub agents.\u001b[39;49;00m\u001b[37m\u001b[39;49;00m\n",
      "\u001b[37m\u001b[39;49;00m\n",
      "\u001b[34mimport\u001b[39;49;00m \u001b[04m\u001b[36mos\u001b[39;49;00m\u001b[37m\u001b[39;49;00m\n",
      "ID_LIST_STR = os.getenv(\u001b[33m'\u001b[39;49;00m\u001b[33mSUB_AGENT_IDS\u001b[39;49;00m\u001b[33m'\u001b[39;49;00m)\u001b[37m\u001b[39;49;00m\n",
      "\u001b[37m\u001b[39;49;00m\n",
      "ID_LIST = ID_LIST_STR.split(\u001b[33m\"\u001b[39;49;00m\u001b[33m,\u001b[39;49;00m\u001b[33m\"\u001b[39;49;00m)\u001b[37m\u001b[39;49;00m\n",
      "ID_LIST = [\u001b[36mid\u001b[39;49;00m.strip() \u001b[34mfor\u001b[39;49;00m \u001b[36mid\u001b[39;49;00m \u001b[35min\u001b[39;49;00m ID_LIST]\u001b[37m\u001b[39;49;00m\n",
      "SUB_AGENT_IDS = {}\u001b[37m\u001b[39;49;00m\n",
      "\u001b[34mfor\u001b[39;49;00m \u001b[36mid\u001b[39;49;00m \u001b[35min\u001b[39;49;00m ID_LIST:\u001b[37m\u001b[39;49;00m\n",
      "    \u001b[36mprint\u001b[39;49;00m(\u001b[36mid\u001b[39;49;00m)\u001b[37m\u001b[39;49;00m\n",
      "    resp = bedrock_agent_client.get_agent(agentId=\u001b[36mid\u001b[39;49;00m)\u001b[37m\u001b[39;49;00m\n",
      "    agent_name = resp[\u001b[33m'\u001b[39;49;00m\u001b[33magent\u001b[39;49;00m\u001b[33m'\u001b[39;49;00m][\u001b[33m'\u001b[39;49;00m\u001b[33magentName\u001b[39;49;00m\u001b[33m'\u001b[39;49;00m]\u001b[37m\u001b[39;49;00m\n",
      "    \u001b[36mprint\u001b[39;49;00m(agent_name)\u001b[37m\u001b[39;49;00m\n",
      "    function = \u001b[33mf\u001b[39;49;00m\u001b[33m\"\u001b[39;49;00m\u001b[33minvoke-\u001b[39;49;00m\u001b[33m{\u001b[39;49;00magent_name\u001b[33m}\u001b[39;49;00m\u001b[33m\"\u001b[39;49;00m\u001b[37m\u001b[39;49;00m\n",
      "    SUB_AGENT_IDS[function] = \u001b[36mid\u001b[39;49;00m\u001b[37m\u001b[39;49;00m\n",
      "\u001b[36mprint\u001b[39;49;00m(\u001b[33mf\u001b[39;49;00m\u001b[33m\"\u001b[39;49;00m\u001b[33msub-agents used by this Supervisor agent: \u001b[39;49;00m\u001b[33m{\u001b[39;49;00mSUB_AGENT_IDS\u001b[33m}\u001b[39;49;00m\u001b[33m\"\u001b[39;49;00m)\u001b[37m\u001b[39;49;00m\n",
      "\u001b[37m\u001b[39;49;00m\n",
      "\u001b[37m\u001b[39;49;00m\n",
      "\u001b[34mdef\u001b[39;49;00m \u001b[32minvoke_sub_agent\u001b[39;49;00m(query, session_id, agent_id, alias_id=\u001b[33m'\u001b[39;49;00m\u001b[33mTSTALIASID\u001b[39;49;00m\u001b[33m'\u001b[39;49;00m, \u001b[37m\u001b[39;49;00m\n",
      "                enable_trace=\u001b[34mFalse\u001b[39;49;00m, session_state=\u001b[36mdict\u001b[39;49;00m()):\u001b[37m\u001b[39;49;00m\n",
      "\u001b[37m\u001b[39;49;00m\n",
      "    end_session:\u001b[36mbool\u001b[39;49;00m = \u001b[34mFalse\u001b[39;49;00m\u001b[37m\u001b[39;49;00m\n",
      "    \u001b[37m\u001b[39;49;00m\n",
      "    \u001b[37m# invoke the agent API\u001b[39;49;00m\u001b[37m\u001b[39;49;00m\n",
      "    agentResponse = bedrock_agent_runtime_client.invoke_agent(\u001b[37m\u001b[39;49;00m\n",
      "        inputText=query,\u001b[37m\u001b[39;49;00m\n",
      "        agentId=agent_id,\u001b[37m\u001b[39;49;00m\n",
      "        agentAliasId=alias_id, \u001b[37m\u001b[39;49;00m\n",
      "        sessionId=session_id,\u001b[37m\u001b[39;49;00m\n",
      "        enableTrace=enable_trace, \u001b[37m\u001b[39;49;00m\n",
      "        endSession= end_session,\u001b[37m\u001b[39;49;00m\n",
      "        sessionState=session_state\u001b[37m\u001b[39;49;00m\n",
      "    )\u001b[37m\u001b[39;49;00m\n",
      "    \u001b[37m\u001b[39;49;00m\n",
      "    \u001b[34mif\u001b[39;49;00m enable_trace:\u001b[37m\u001b[39;49;00m\n",
      "        logger.info(pprint.pprint(agentResponse))\u001b[37m\u001b[39;49;00m\n",
      "    \u001b[37m\u001b[39;49;00m\n",
      "    event_stream = agentResponse[\u001b[33m'\u001b[39;49;00m\u001b[33mcompletion\u001b[39;49;00m\u001b[33m'\u001b[39;49;00m]\u001b[37m\u001b[39;49;00m\n",
      "    \u001b[34mtry\u001b[39;49;00m:\u001b[37m\u001b[39;49;00m\n",
      "        \u001b[34mfor\u001b[39;49;00m event \u001b[35min\u001b[39;49;00m event_stream:        \u001b[37m\u001b[39;49;00m\n",
      "            \u001b[34mif\u001b[39;49;00m \u001b[33m'\u001b[39;49;00m\u001b[33mchunk\u001b[39;49;00m\u001b[33m'\u001b[39;49;00m \u001b[35min\u001b[39;49;00m event:\u001b[37m\u001b[39;49;00m\n",
      "                data = event[\u001b[33m'\u001b[39;49;00m\u001b[33mchunk\u001b[39;49;00m\u001b[33m'\u001b[39;49;00m][\u001b[33m'\u001b[39;49;00m\u001b[33mbytes\u001b[39;49;00m\u001b[33m'\u001b[39;49;00m]\u001b[37m\u001b[39;49;00m\n",
      "                \u001b[34mif\u001b[39;49;00m enable_trace:\u001b[37m\u001b[39;49;00m\n",
      "                    logger.info(\u001b[33mf\u001b[39;49;00m\u001b[33m\"\u001b[39;49;00m\u001b[33mFinal answer ->\u001b[39;49;00m\u001b[33m\\n\u001b[39;49;00m\u001b[33m{\u001b[39;49;00mdata.decode(\u001b[33m'\u001b[39;49;00m\u001b[33mutf8\u001b[39;49;00m\u001b[33m'\u001b[39;49;00m)\u001b[33m}\u001b[39;49;00m\u001b[33m\"\u001b[39;49;00m)\u001b[37m\u001b[39;49;00m\n",
      "                agent_answer = data.decode(\u001b[33m'\u001b[39;49;00m\u001b[33mutf8\u001b[39;49;00m\u001b[33m'\u001b[39;49;00m)\u001b[37m\u001b[39;49;00m\n",
      "                end_event_received = \u001b[34mTrue\u001b[39;49;00m\u001b[37m\u001b[39;49;00m\n",
      "                \u001b[34mreturn\u001b[39;49;00m agent_answer\u001b[37m\u001b[39;49;00m\n",
      "                \u001b[37m# End event indicates that the request finished successfully\u001b[39;49;00m\u001b[37m\u001b[39;49;00m\n",
      "            \u001b[34melif\u001b[39;49;00m \u001b[33m'\u001b[39;49;00m\u001b[33mtrace\u001b[39;49;00m\u001b[33m'\u001b[39;49;00m \u001b[35min\u001b[39;49;00m event:\u001b[37m\u001b[39;49;00m\n",
      "                \u001b[34mif\u001b[39;49;00m enable_trace:\u001b[37m\u001b[39;49;00m\n",
      "                    logger.info(json.dumps(event[\u001b[33m'\u001b[39;49;00m\u001b[33mtrace\u001b[39;49;00m\u001b[33m'\u001b[39;49;00m], indent=\u001b[34m2\u001b[39;49;00m))\u001b[37m\u001b[39;49;00m\n",
      "            \u001b[34melse\u001b[39;49;00m:\u001b[37m\u001b[39;49;00m\n",
      "                \u001b[34mraise\u001b[39;49;00m \u001b[36mException\u001b[39;49;00m(\u001b[33m\"\u001b[39;49;00m\u001b[33munexpected event.\u001b[39;49;00m\u001b[33m\"\u001b[39;49;00m, event)\u001b[37m\u001b[39;49;00m\n",
      "    \u001b[34mexcept\u001b[39;49;00m \u001b[36mException\u001b[39;49;00m \u001b[34mas\u001b[39;49;00m e:\u001b[37m\u001b[39;49;00m\n",
      "        \u001b[34mraise\u001b[39;49;00m \u001b[36mException\u001b[39;49;00m(\u001b[33m\"\u001b[39;49;00m\u001b[33munexpected event.\u001b[39;49;00m\u001b[33m\"\u001b[39;49;00m, e)\u001b[37m\u001b[39;49;00m\n",
      "\u001b[37m\u001b[39;49;00m\n",
      "\u001b[34mdef\u001b[39;49;00m \u001b[32mget_named_parameter\u001b[39;49;00m(event, name):\u001b[37m\u001b[39;49;00m\n",
      "    \u001b[34mreturn\u001b[39;49;00m \u001b[36mnext\u001b[39;49;00m(item \u001b[34mfor\u001b[39;49;00m item \u001b[35min\u001b[39;49;00m event[\u001b[33m'\u001b[39;49;00m\u001b[33mparameters\u001b[39;49;00m\u001b[33m'\u001b[39;49;00m] \u001b[34mif\u001b[39;49;00m item[\u001b[33m'\u001b[39;49;00m\u001b[33mname\u001b[39;49;00m\u001b[33m'\u001b[39;49;00m] == name)[\u001b[33m'\u001b[39;49;00m\u001b[33mvalue\u001b[39;49;00m\u001b[33m'\u001b[39;49;00m]\u001b[37m\u001b[39;49;00m\n",
      "    \u001b[37m\u001b[39;49;00m\n",
      "\u001b[34mdef\u001b[39;49;00m \u001b[32mpopulate_function_response\u001b[39;49;00m(event, response_body):\u001b[37m\u001b[39;49;00m\n",
      "    \u001b[34mreturn\u001b[39;49;00m {\u001b[33m'\u001b[39;49;00m\u001b[33mresponse\u001b[39;49;00m\u001b[33m'\u001b[39;49;00m: {\u001b[33m'\u001b[39;49;00m\u001b[33mactionGroup\u001b[39;49;00m\u001b[33m'\u001b[39;49;00m: event[\u001b[33m'\u001b[39;49;00m\u001b[33mactionGroup\u001b[39;49;00m\u001b[33m'\u001b[39;49;00m], \u001b[33m'\u001b[39;49;00m\u001b[33mfunction\u001b[39;49;00m\u001b[33m'\u001b[39;49;00m: event[\u001b[33m'\u001b[39;49;00m\u001b[33mfunction\u001b[39;49;00m\u001b[33m'\u001b[39;49;00m],\u001b[37m\u001b[39;49;00m\n",
      "                \u001b[33m'\u001b[39;49;00m\u001b[33mfunctionResponse\u001b[39;49;00m\u001b[33m'\u001b[39;49;00m: {\u001b[33m'\u001b[39;49;00m\u001b[33mresponseBody\u001b[39;49;00m\u001b[33m'\u001b[39;49;00m: {\u001b[33m'\u001b[39;49;00m\u001b[33mTEXT\u001b[39;49;00m\u001b[33m'\u001b[39;49;00m: {\u001b[33m'\u001b[39;49;00m\u001b[33mbody\u001b[39;49;00m\u001b[33m'\u001b[39;49;00m: \u001b[36mstr\u001b[39;49;00m(response_body)}}}}}\u001b[37m\u001b[39;49;00m\n",
      "\u001b[37m\u001b[39;49;00m\n",
      "\u001b[34mdef\u001b[39;49;00m \u001b[32mlambda_handler\u001b[39;49;00m(event, context):\u001b[37m\u001b[39;49;00m\n",
      "    \u001b[36mprint\u001b[39;49;00m(event)\u001b[37m\u001b[39;49;00m\n",
      "    \u001b[37m\u001b[39;49;00m\n",
      "    function = event[\u001b[33m'\u001b[39;49;00m\u001b[33mfunction\u001b[39;49;00m\u001b[33m'\u001b[39;49;00m]\u001b[37m\u001b[39;49;00m\n",
      "    session_id = event[\u001b[33m'\u001b[39;49;00m\u001b[33msessionId\u001b[39;49;00m\u001b[33m'\u001b[39;49;00m]\u001b[37m\u001b[39;49;00m\n",
      "\u001b[37m\u001b[39;49;00m\n",
      "    \u001b[34mif\u001b[39;49;00m function \u001b[35min\u001b[39;49;00m SUB_AGENT_IDS:\u001b[37m\u001b[39;49;00m\n",
      "        input_text = get_named_parameter(event, \u001b[33m'\u001b[39;49;00m\u001b[33minput_text\u001b[39;49;00m\u001b[33m'\u001b[39;49;00m)\u001b[37m\u001b[39;49;00m\n",
      "        \u001b[34mif\u001b[39;49;00m \u001b[35mnot\u001b[39;49;00m input_text:\u001b[37m\u001b[39;49;00m\n",
      "            \u001b[34mraise\u001b[39;49;00m \u001b[36mException\u001b[39;49;00m(\u001b[33m\"\u001b[39;49;00m\u001b[33mMissing mandatory parameter: input_text\u001b[39;49;00m\u001b[33m\"\u001b[39;49;00m)\u001b[37m\u001b[39;49;00m\n",
      "            \u001b[37m\u001b[39;49;00m\n",
      "        \u001b[36mprint\u001b[39;49;00m(\u001b[33mf\u001b[39;49;00m\u001b[33m\"\u001b[39;49;00m\u001b[33mInvoking sub-agent: \u001b[39;49;00m\u001b[33m{\u001b[39;49;00mfunction.split(\u001b[33m'\u001b[39;49;00m\u001b[33minvoke-\u001b[39;49;00m\u001b[33m'\u001b[39;49;00m)[\u001b[34m1\u001b[39;49;00m]\u001b[33m}\u001b[39;49;00m\u001b[33m...\u001b[39;49;00m\u001b[33m\"\u001b[39;49;00m)\u001b[37m\u001b[39;49;00m\n",
      "        sess_attrs = event[\u001b[33m'\u001b[39;49;00m\u001b[33msessionAttributes\u001b[39;49;00m\u001b[33m'\u001b[39;49;00m]\u001b[37m\u001b[39;49;00m\n",
      "        prompt_attrs = event[\u001b[33m'\u001b[39;49;00m\u001b[33mpromptSessionAttributes\u001b[39;49;00m\u001b[33m'\u001b[39;49;00m]\u001b[37m\u001b[39;49;00m\n",
      "        result = invoke_sub_agent(input_text, session_id, SUB_AGENT_IDS[function],\u001b[37m\u001b[39;49;00m\n",
      "                    session_state =\u001b[37m\u001b[39;49;00m\n",
      "                        {\u001b[33m\"\u001b[39;49;00m\u001b[33msessionAttributes\u001b[39;49;00m\u001b[33m\"\u001b[39;49;00m: {} \u001b[34mif\u001b[39;49;00m sess_attrs \u001b[35mis\u001b[39;49;00m \u001b[34mNone\u001b[39;49;00m \u001b[34melse\u001b[39;49;00m sess_attrs,\u001b[37m\u001b[39;49;00m\n",
      "                         \u001b[33m\"\u001b[39;49;00m\u001b[33mpromptSessionAttributes\u001b[39;49;00m\u001b[33m\"\u001b[39;49;00m: {} \u001b[34mif\u001b[39;49;00m prompt_attrs \u001b[35mis\u001b[39;49;00m \u001b[34mNone\u001b[39;49;00m \u001b[34melse\u001b[39;49;00m prompt_attrs})\u001b[37m\u001b[39;49;00m\n",
      "    \u001b[34melse\u001b[39;49;00m:\u001b[37m\u001b[39;49;00m\n",
      "        \u001b[34mraise\u001b[39;49;00m \u001b[36mException\u001b[39;49;00m(\u001b[33mf\u001b[39;49;00m\u001b[33m\"\u001b[39;49;00m\u001b[33mUnrecognized function: \u001b[39;49;00m\u001b[33m{\u001b[39;49;00mfunction\u001b[33m}\u001b[39;49;00m\u001b[33m\"\u001b[39;49;00m)\u001b[37m\u001b[39;49;00m\n",
      "\u001b[37m\u001b[39;49;00m\n",
      "    response = populate_function_response(event, result)\u001b[37m\u001b[39;49;00m\n",
      "    \u001b[36mprint\u001b[39;49;00m(response)\u001b[37m\u001b[39;49;00m\n",
      "    \u001b[34mreturn\u001b[39;49;00m response\u001b[37m\u001b[39;49;00m\n"
     ]
    }
   ],
   "source": [
    "!pygmentize supervisor_agent_function.py"
   ]
  },
  {
   "cell_type": "code",
   "execution_count": 7,
   "id": "3715525a",
   "metadata": {},
   "outputs": [],
   "source": [
    "sub_agent_names = [\"existing_mortgage_agent\", \"mortgage_application_agent\"]"
   ]
  },
  {
   "cell_type": "code",
   "execution_count": 8,
   "id": "f5295996",
   "metadata": {},
   "outputs": [],
   "source": [
    "supervisor_agent_name = \"mortgage_supervisor_agent\""
   ]
  },
  {
   "cell_type": "code",
   "execution_count": 9,
   "id": "1040faef",
   "metadata": {},
   "outputs": [
    {
     "data": {
      "text/plain": [
       "'arn:aws:bedrock:us-east-1:355151823911:knowledge-base/LAFUAQUKQG'"
      ]
     },
     "execution_count": 9,
     "metadata": {},
     "output_type": "execute_result"
    }
   ],
   "source": [
    "# TODO: make a 'get_kb_id_by_name()' helper, or get_kb_arn_by_name() \n",
    "kb_id = 'LAFUAQUKQG'\n",
    "kb_arn = f\"arn:aws:bedrock:{region}:{account_id}:knowledge-base/{kb_id}\"\n",
    "kb_arn "
   ]
  },
  {
   "cell_type": "code",
   "execution_count": 22,
   "id": "d9def9ce",
   "metadata": {},
   "outputs": [],
   "source": [
    "function_defs, supervisor_agent_arn = \\\n",
    "    agents.create_supervisor_agent(supervisor_agent_name, \n",
    "                                    sub_agent_names,\n",
    "                                    agent_foundation_models,\n",
    "                                    [kb_arn])"
   ]
  },
  {
   "cell_type": "code",
   "execution_count": 23,
   "id": "97344e17",
   "metadata": {},
   "outputs": [
    {
     "data": {
      "text/plain": [
       "'L75N6MXUYU'"
      ]
     },
     "execution_count": 23,
     "metadata": {},
     "output_type": "execute_result"
    }
   ],
   "source": [
    "supervisor_agent_id = supervisor_agent_arn.split('/')[1]\n",
    "supervisor_agent_id"
   ]
  },
  {
   "cell_type": "markdown",
   "id": "37933a68",
   "metadata": {},
   "source": [
    "Try one simple invoke to be sure the supervisor agent is working."
   ]
  },
  {
   "cell_type": "code",
   "execution_count": 24,
   "id": "461e62f7",
   "metadata": {},
   "outputs": [
    {
     "name": "stdout",
     "output_type": "stream",
     "text": [
      "According to the information retrieved, your next mortgage payment is due on July 1, 2024. The payment amount is $1,250.\n",
      "CPU times: user 16 ms, sys: 2.68 ms, total: 18.7 ms\n",
      "Wall time: 6.92 s\n"
     ]
    }
   ],
   "source": [
    "%%time\n",
    "print(agents.invoke(\"my id is 8953. when is my payment due?\", \n",
    "                    supervisor_agent_id, session_id=\"222\"))"
   ]
  },
  {
   "cell_type": "markdown",
   "id": "763a300f",
   "metadata": {},
   "source": [
    "## 5. Test the Supervisor Agent\n",
    "Now that we've created the agent, let's use the `bedrock-agent-runtime` client to invoke this agent and perform some tasks. You can invoke your agent with the [`invoke_agent`](https://boto3.amazonaws.com/v1/documentation/api/latest/reference/services/bedrock-agent-runtime/client/invoke_agent.html) API. Here we use the agents wrapper class instead."
   ]
  },
  {
   "cell_type": "code",
   "execution_count": 25,
   "id": "fb74b4aa",
   "metadata": {},
   "outputs": [
    {
     "name": "stdout",
     "output_type": "stream",
     "text": [
      "According to the information retrieved, your current mortgage balance is $150,000.\n",
      "CPU times: user 2.16 ms, sys: 1.25 ms, total: 3.41 ms\n",
      "Wall time: 5.02 s\n"
     ]
    }
   ],
   "source": [
    "%%time\n",
    "print(agents.invoke(\"my id is 8953. what is my balance?\", \n",
    "                supervisor_agent_id, session_id=\"111\", enable_trace=False))"
   ]
  },
  {
   "cell_type": "code",
   "execution_count": 26,
   "id": "ddc56f19",
   "metadata": {},
   "outputs": [
    {
     "name": "stdout",
     "output_type": "stream",
     "text": [
      "According to the information retrieved, your mortgage maturity date is June 30, 2030.\n",
      "CPU times: user 2.36 ms, sys: 1.27 ms, total: 3.63 ms\n",
      "Wall time: 4.62 s\n"
     ]
    }
   ],
   "source": [
    "%%time\n",
    "print(agents.invoke(\"nice. what's my maturity date?\", supervisor_agent_id, session_id=\"111\"))"
   ]
  },
  {
   "cell_type": "code",
   "execution_count": 27,
   "id": "be555843",
   "metadata": {},
   "outputs": [
    {
     "name": "stdout",
     "output_type": "stream",
     "text": [
      "Based on the information provided, for your mortgage application you still need to provide the following document:\n",
      "\n",
      "- Employment information\n",
      "CPU times: user 1.93 ms, sys: 1.02 ms, total: 2.96 ms\n",
      "Wall time: 6.74 s\n"
     ]
    }
   ],
   "source": [
    "%%time\n",
    "print(agents.invoke(\"what docs do I need for my application?\", \n",
    "                    supervisor_agent_id, session_id=\"111\"))"
   ]
  },
  {
   "cell_type": "code",
   "execution_count": 28,
   "id": "fd72326a",
   "metadata": {},
   "outputs": [
    {
     "name": "stdout",
     "output_type": "stream",
     "text": [
      "According to the information provided, for your mortgage application you have already submitted the following documents:\n",
      "\n",
      "- Proof of income\n",
      "- Proof of assets \n",
      "- Credit information\n",
      "\n",
      "The only document that is still missing is the employment information.\n",
      "CPU times: user 1.79 ms, sys: 875 µs, total: 2.67 ms\n",
      "Wall time: 6.46 s\n"
     ]
    }
   ],
   "source": [
    "%%time\n",
    "print(agents.invoke(\"what docs have I already provided you for my application?\", \n",
    "            supervisor_agent_id, session_id=\"111\"))"
   ]
  },
  {
   "cell_type": "code",
   "execution_count": 29,
   "id": "7cbccfc6",
   "metadata": {},
   "outputs": [
    {
     "name": "stdout",
     "output_type": "stream",
     "text": [
      "Here are the key advantages of a 15-year mortgage compared to a 30-year mortgage:\n",
      "\n",
      "1. Lower interest rates - 15-year mortgages typically have lower interest rates than 30-year mortgages, which can result in significant interest savings over the life of the loan. This could potentially lower the monthly payments.\n",
      "\n",
      "2. Faster equity buildup - With a 15-year mortgage, you would pay off the loan faster, allowing you to build home equity more quickly compared to a 30-year mortgage. This can be beneficial if you plan to stay in the home long-term.\n",
      "\n",
      "3. Lower total interest paid - Over the life of the loan, a 15-year mortgage will result in significantly less total interest paid compared to a 30-year mortgage, even with a slightly higher monthly payment. This can save you tens of thousands of dollars in interest.\n",
      "\n",
      "4. Earlier home ownership - By paying off the mortgage in 15 years instead of 30, you would own your home free and clear sooner, which can provide more financial flexibility and security in retirement.\n",
      "\n",
      "The main tradeoff is that the monthly payments on a 15-year mortgage are typically higher than a 30-year mortgage, so you would need to ensure you can comfortably afford the higher payments. But the long-term benefits of a 15-year mortgage can make it a worthwhile option to consider.\n",
      "CPU times: user 2.27 ms, sys: 1.23 ms, total: 3.5 ms\n",
      "Wall time: 15 s\n"
     ]
    }
   ],
   "source": [
    "%%time\n",
    "print(agents.invoke(\"what are the advantages of a 15-year mortgage?\", \n",
    "                    supervisor_agent_id, session_id=\"999\"))"
   ]
  },
  {
   "cell_type": "code",
   "execution_count": 30,
   "id": "1e0201c0-abb3-4ad5-a7e7-1750d14a2717",
   "metadata": {
    "pycharm": {
     "name": "#%%\n"
    },
    "tags": []
   },
   "outputs": [
    {
     "name": "stdout",
     "output_type": "stream",
     "text": [
      "According to the information retrieved, your mortgage balance is $150,000 and your next payment is due on July 1, 2024 in the amount of $1,250.\n",
      "CPU times: user 17.1 ms, sys: 2.56 ms, total: 19.6 ms\n",
      "Wall time: 5.56 s\n"
     ]
    }
   ],
   "source": [
    "%%time\n",
    "import uuid\n",
    "session_id:str = str(uuid.uuid1())\n",
    "\n",
    "query = \"my customer ID is 8953. what is my mortgage balance and when is my next payment due?\"\n",
    "response = agents.invoke(query, supervisor_agent_id, session_id=session_id)\n",
    "print(response)"
   ]
  },
  {
   "cell_type": "markdown",
   "id": "c7043ba4",
   "metadata": {},
   "source": [
    "## Use session attributes to provide context to the Supervisor Agent\n",
    "\n",
    "To do so, we can use the session context to provide some attributes to our prompt. In this case we will provide it directly to the prompt using the [`promptSessionAttributes`](https://docs.aws.amazon.com/bedrock/latest/userguide/agents-session-state.html) parameter. Let's also start a new session id so that our agent does not memorize our name."
   ]
  },
  {
   "cell_type": "code",
   "execution_count": 31,
   "id": "a03ad5f2",
   "metadata": {},
   "outputs": [
    {
     "data": {
      "text/plain": [
       "{'promptSessionAttributes': {'customer_ID': '498', 'today': 'Jun-01-2024'}}"
      ]
     },
     "execution_count": 31,
     "metadata": {},
     "output_type": "execute_result"
    }
   ],
   "source": [
    "from datetime import datetime\n",
    "today = datetime.today().strftime('%b-%d-%Y')\n",
    "\n",
    "session_state = {\n",
    "    \"promptSessionAttributes\": {\n",
    "        \"customer_ID\": \"498\",\n",
    "        \"today\": today\n",
    "    }\n",
    "}\n",
    "session_state"
   ]
  },
  {
   "cell_type": "code",
   "execution_count": 32,
   "id": "139c210f",
   "metadata": {},
   "outputs": [
    {
     "name": "stdout",
     "output_type": "stream",
     "text": [
      "Based on the information from the mortgage application agent, the document you still need to provide for your mortgage application is your employment information. All other required documents, including proof of income, proof of assets, and credit information, have been completed.\n",
      "CPU times: user 2.1 ms, sys: 971 µs, total: 3.07 ms\n",
      "Wall time: 6.54 s\n"
     ]
    }
   ],
   "source": [
    "%%time\n",
    "query = \"what docs do I still owe you?\"\n",
    "print(agents.invoke(query, supervisor_agent_id, \n",
    "                session_id=session_id, session_state=session_state))"
   ]
  },
  {
   "cell_type": "code",
   "execution_count": 33,
   "id": "e140e6ee",
   "metadata": {},
   "outputs": [
    {
     "name": "stdout",
     "output_type": "stream",
     "text": [
      "According to the details of your existing mortgage, there are 6 years remaining until the maturity date of June 30, 2030.\n",
      "CPU times: user 2.59 ms, sys: 1.27 ms, total: 3.86 ms\n",
      "Wall time: 9.95 s\n"
     ]
    }
   ],
   "source": [
    "%%time\n",
    "session_id:str = str(uuid.uuid1())\n",
    "query = \"how many years until my maturity date?\"\n",
    "print(agents.invoke(query, supervisor_agent_id, \n",
    "        session_id=session_id, session_state=session_state, enable_trace=False))"
   ]
  },
  {
   "cell_type": "markdown",
   "id": "38b3f123",
   "metadata": {},
   "source": [
    "## 6. Control the tone of the supervisor, independent of the sub-agents"
   ]
  },
  {
   "cell_type": "code",
   "execution_count": 34,
   "id": "8282eb77",
   "metadata": {},
   "outputs": [
    {
     "data": {
      "text/plain": [
       "\"You are a Supervisor Agent that plans and executes multi step tasks based on user input.\\n        To accomplish those tasks, you delegate your work to a sub-agent, but you never reveal to the user that you are using sub-agents.\\n        Pretend that you are handling all the requests directly. \\n        note that a sub-agent may be capable of asking for specific additional info, so don't feel obligated to ask the user for \\n        input before you delegate work to a sub-agent. if a sub-agent is asking for additional information, \\n        ask the user for that, but do not reveal that you are using a sub-agent. for example, if any sub-agent asks \\n        for a customer id, just ask the user for the customer id without saying that the sub-agent asked for it.\\n        Here is your list of sub-agents: existing_mortgage_agent., mortgage_application_agent.. You also can take advantage of your available knowledge bases.\""
      ]
     },
     "execution_count": 34,
     "metadata": {},
     "output_type": "execute_result"
    }
   ],
   "source": [
    "current_instructions = agents.get_agent_instructions_by_name(supervisor_agent_name)\n",
    "current_instructions"
   ]
  },
  {
   "cell_type": "code",
   "execution_count": 35,
   "id": "38ce9d46",
   "metadata": {},
   "outputs": [
    {
     "data": {
      "text/plain": [
       "{'ResponseMetadata': {'RequestId': '29ce1cbc-e3a1-415a-93be-13acdeb42734',\n",
       "  'HTTPStatusCode': 202,\n",
       "  'HTTPHeaders': {'date': 'Sat, 01 Jun 2024 19:08:29 GMT',\n",
       "   'content-type': 'application/json',\n",
       "   'content-length': '1838',\n",
       "   'connection': 'keep-alive',\n",
       "   'x-amzn-requestid': '29ce1cbc-e3a1-415a-93be-13acdeb42734',\n",
       "   'x-amz-apigw-id': 'Ys6zJGkBIAMET_g=',\n",
       "   'x-amzn-trace-id': 'Root=1-665b71ad-462d29f269e28ce66dc7bafe'},\n",
       "  'RetryAttempts': 0},\n",
       " 'agent': {'agentArn': 'arn:aws:bedrock:us-east-1:355151823911:agent/L75N6MXUYU',\n",
       "  'agentId': 'L75N6MXUYU',\n",
       "  'agentName': 'mortgage_supervisor_agent',\n",
       "  'agentResourceRoleArn': 'arn:aws:iam::355151823911:role/AmazonBedrockExecutionRoleForAgents_mortgage_supervisor_agent',\n",
       "  'agentStatus': 'UPDATING',\n",
       "  'clientToken': '00dcd217-86c9-49ff-9f6c-3fb4dabefd65',\n",
       "  'createdAt': datetime.datetime(2024, 6, 1, 19, 0, 4, 900747, tzinfo=tzutc()),\n",
       "  'description': 'You are a Supervisor Agent that plans and executes multi step tasks based on user input.        To accomplish those tasks, you delegate your work to a sub-agent or knowledge base.',\n",
       "  'foundationModel': 'anthropic.claude-3-haiku-20240307-v1:0',\n",
       "  'idleSessionTTLInSeconds': 1800,\n",
       "  'instruction': \"You are a Supervisor Agent that plans and executes multi step tasks based on user input.\\n        To accomplish those tasks, you delegate your work to a sub-agent, but you never reveal to the user that you are using sub-agents.\\n        Pretend that you are handling all the requests directly. \\n        note that a sub-agent may be capable of asking for specific additional info, so don't feel obligated to ask the user for \\n        input before you delegate work to a sub-agent. if a sub-agent is asking for additional information, \\n        ask the user for that, but do not reveal that you are using a sub-agent. for example, if any sub-agent asks \\n        for a customer id, just ask the user for the customer id without saying that the sub-agent asked for it.\\n        Here is your list of sub-agents: existing_mortgage_agent., mortgage_application_agent.. You also can take advantage of your available knowledge bases.\\n The style and tone of your response should be that of a casual and friendly conversation \\non social media or a text stream. Add some humor, and use texting shorthand like lol.\",\n",
       "  'updatedAt': datetime.datetime(2024, 6, 1, 19, 8, 29, 526395, tzinfo=tzutc())}}"
      ]
     },
     "execution_count": 35,
     "metadata": {},
     "output_type": "execute_result"
    }
   ],
   "source": [
    "current_instructions += \"\"\"\n",
    " The style and tone of your response should be that of a casual and friendly conversation \n",
    "on social media or a text stream. Add some humor, and use texting shorthand like lol.\"\"\"\n",
    "updated_details = agents.update_agent(supervisor_agent_name, new_instructions=current_instructions)\n",
    "updated_details"
   ]
  },
  {
   "cell_type": "code",
   "execution_count": 38,
   "id": "cd61885c",
   "metadata": {},
   "outputs": [
    {
     "name": "stdout",
     "output_type": "stream",
     "text": [
      "Ah got it, my bad. Let me just get that customer ID from you real quick.\n",
      "\n",
      "The sub-agent needs the customer ID to look up the details of the existing mortgage. I'll ask the user for that information.\n",
      "\n",
      "What's your customer ID?\n",
      "CPU times: user 2.26 ms, sys: 1.21 ms, total: 3.47 ms\n",
      "Wall time: 4.61 s\n"
     ]
    }
   ],
   "source": [
    "%%time\n",
    "query = \"hey bro, when's my next pmt?\"\n",
    "print(agents.invoke(query, supervisor_agent_id, session_id=\"678\"))"
   ]
  },
  {
   "cell_type": "code",
   "execution_count": 40,
   "id": "5978b135",
   "metadata": {},
   "outputs": [
    {
     "name": "stdout",
     "output_type": "stream",
     "text": [
      "Alright, got it! Your next mortgage payment is due on July 1, 2024 and the payment amount is $1,250.00. Let me know if you need anything else, bro!\n",
      "CPU times: user 2.8 ms, sys: 1.32 ms, total: 4.12 ms\n",
      "Wall time: 5.52 s\n"
     ]
    }
   ],
   "source": [
    "%%time\n",
    "query = \"thanks bro! I'm customer 9898\"\n",
    "print(agents.invoke(query, supervisor_agent_id, session_id=\"678\"))"
   ]
  },
  {
   "cell_type": "code",
   "execution_count": 41,
   "id": "aee669ee",
   "metadata": {},
   "outputs": [
    {
     "name": "stdout",
     "output_type": "stream",
     "text": [
      "Haha, no worries dude! I got your back if you do need some help with that payment. A few options you could look into:\n",
      "\n",
      "- See if your lender offers any hardship programs or temporary payment relief. Might be worth giving them a call.\n",
      "\n",
      "- Look into refinancing your mortgage to get a lower monthly payment. The sub-agent can help walk you through that process.\n",
      "\n",
      "- See if you qualify for any government or local assistance programs that could provide some financial aid.\n",
      "\n",
      "Let me know if any of those sound helpful and I can get the sub-agent to look into it further. Just say the word, my man!\n",
      "CPU times: user 2.2 ms, sys: 1.19 ms, total: 3.39 ms\n",
      "Wall time: 3.04 s\n"
     ]
    }
   ],
   "source": [
    "%%time\n",
    "query = \"amazing, dude. can u help me raise some cash for that? jk\"\n",
    "print(agents.invoke(query, supervisor_agent_id, session_id=\"678\"))"
   ]
  },
  {
   "cell_type": "markdown",
   "id": "14a82371",
   "metadata": {},
   "source": [
    "## 7. Try out a guardrail"
   ]
  },
  {
   "cell_type": "code",
   "execution_count": 43,
   "id": "1c4eb5c5",
   "metadata": {},
   "outputs": [
    {
     "data": {
      "text/plain": [
       "{'ResponseMetadata': {'RequestId': '6c807c52-b69d-4263-b40b-4db715e3aff5',\n",
       "  'HTTPStatusCode': 202,\n",
       "  'HTTPHeaders': {'date': 'Sat, 01 Jun 2024 19:14:51 GMT',\n",
       "   'content-type': 'application/json',\n",
       "   'content-length': '1929',\n",
       "   'connection': 'keep-alive',\n",
       "   'x-amzn-requestid': '6c807c52-b69d-4263-b40b-4db715e3aff5',\n",
       "   'x-amz-apigw-id': 'Ys7u2HWUoAMEpCg=',\n",
       "   'x-amzn-trace-id': 'Root=1-665b732b-2e913d025d89b2f70b1ca2e6'},\n",
       "  'RetryAttempts': 0},\n",
       " 'agent': {'agentArn': 'arn:aws:bedrock:us-east-1:355151823911:agent/L75N6MXUYU',\n",
       "  'agentId': 'L75N6MXUYU',\n",
       "  'agentName': 'mortgage_supervisor_agent',\n",
       "  'agentResourceRoleArn': 'arn:aws:iam::355151823911:role/AmazonBedrockExecutionRoleForAgents_mortgage_supervisor_agent',\n",
       "  'agentStatus': 'UPDATING',\n",
       "  'clientToken': '00dcd217-86c9-49ff-9f6c-3fb4dabefd65',\n",
       "  'createdAt': datetime.datetime(2024, 6, 1, 19, 0, 4, 900747, tzinfo=tzutc()),\n",
       "  'description': 'You are a Supervisor Agent that plans and executes multi step tasks based on user input.        To accomplish those tasks, you delegate your work to a sub-agent or knowledge base.',\n",
       "  'foundationModel': 'anthropic.claude-3-haiku-20240307-v1:0',\n",
       "  'guardrailConfiguration': {'guardrailIdentifier': 't7royxt0t4lv',\n",
       "   'guardrailVersion': 'DRAFT'},\n",
       "  'idleSessionTTLInSeconds': 1800,\n",
       "  'instruction': \"You are a Supervisor Agent that plans and executes multi step tasks based on user input.\\n        To accomplish those tasks, you delegate your work to a sub-agent, but you never reveal to the user that you are using sub-agents.\\n        Pretend that you are handling all the requests directly. \\n        note that a sub-agent may be capable of asking for specific additional info, so don't feel obligated to ask the user for \\n        input before you delegate work to a sub-agent. if a sub-agent is asking for additional information, \\n        ask the user for that, but do not reveal that you are using a sub-agent. for example, if any sub-agent asks \\n        for a customer id, just ask the user for the customer id without saying that the sub-agent asked for it.\\n        Here is your list of sub-agents: existing_mortgage_agent., mortgage_application_agent.. You also can take advantage of your available knowledge bases.\\n The style and tone of your response should be that of a casual and friendly conversation \\non social media or a text stream. Add some humor, and use texting shorthand like lol.\",\n",
       "  'updatedAt': datetime.datetime(2024, 6, 1, 19, 14, 51, 601330, tzinfo=tzutc())}}"
      ]
     },
     "execution_count": 43,
     "metadata": {},
     "output_type": "execute_result"
    }
   ],
   "source": [
    "guardrail_id = \"t7royxt0t4lv\"\n",
    "updated_details = agents.update_agent(supervisor_agent_name, guardrail_id=guardrail_id)\n",
    "updated_details"
   ]
  },
  {
   "cell_type": "code",
   "execution_count": 45,
   "id": "ff334f1d",
   "metadata": {},
   "outputs": [
    {
     "name": "stdout",
     "output_type": "stream",
     "text": [
      "Awesome, looks like your next mortgage payment is due on July 1, 2024. Let me know if you need anything else!\n",
      "CPU times: user 16.8 ms, sys: 2.7 ms, total: 19.5 ms\n",
      "Wall time: 10.1 s\n"
     ]
    }
   ],
   "source": [
    "%%time\n",
    "query = \"hey bro, when's my next pmt?\"\n",
    "print(agents.invoke(query, supervisor_agent_id, session_id=\"199\"))"
   ]
  },
  {
   "cell_type": "code",
   "execution_count": 49,
   "id": "d53c7839",
   "metadata": {},
   "outputs": [
    {
     "name": "stdout",
     "output_type": "stream",
     "text": [
      "{\n",
      "  \"agentAliasId\": \"TSTALIASID\",\n",
      "  \"agentId\": \"L75N6MXUYU\",\n",
      "  \"agentVersion\": \"DRAFT\",\n",
      "  \"sessionId\": \"199\",\n",
      "  \"trace\": {\n",
      "    \"guardrailTrace\": {\n",
      "      \"action\": \"INTERVENED\",\n",
      "      \"inputAssessments\": [\n",
      "        {\n",
      "          \"topicPolicy\": {\n",
      "            \"topics\": [\n",
      "              {\n",
      "                \"action\": \"BLOCKED\",\n",
      "                \"name\": \"no-hoop\",\n",
      "                \"type\": \"DENY\"\n",
      "              }\n",
      "            ]\n",
      "          }\n",
      "        }\n",
      "      ],\n",
      "      \"traceId\": \"56e35b74-8e51-4269-a2a1-99262a0c8e68-guardrail-pre-0\"\n",
      "    }\n",
      "  }\n",
      "}\n",
      "Sorry, the model cannot discuss basketball.\n",
      "CPU times: user 17.7 ms, sys: 2.31 ms, total: 20 ms\n",
      "Wall time: 816 ms\n"
     ]
    }
   ],
   "source": [
    "%%time\n",
    "query = \"how about those Boston Celtics? time for a new championship banner this year.\"\n",
    "print(agents.invoke(query, supervisor_agent_id, session_id=\"199\", enable_trace=True))"
   ]
  },
  {
   "cell_type": "code",
   "execution_count": null,
   "id": "469b429a",
   "metadata": {},
   "outputs": [],
   "source": [
    "%%time\n",
    "query = \"thanks. do you like the Boston Celtics? time for a new championship banner this year.\"\n",
    "response = agents.invoke(query, supervisor_agent_id, \n",
    "                        session_id=\"200\", enable_trace=False)\n",
    "print(response)\n",
    "\n",
    "# Sorry, the model cannot discuss basketball."
   ]
  },
  {
   "cell_type": "markdown",
   "id": "7baf18ec",
   "metadata": {},
   "source": [
    "## 8. Quick performance test"
   ]
  },
  {
   "cell_type": "code",
   "execution_count": 52,
   "id": "8dd93c10",
   "metadata": {},
   "outputs": [],
   "source": [
    "import uuid \n",
    "import time\n",
    "import numpy as np\n",
    "\n",
    "def query_loop_by_supervisor(query, agent_id, num_invokes):\n",
    "    latencies = []\n",
    "    for i in range(num_invokes):\n",
    "        _session_id = str(uuid.uuid1())\n",
    "        _start_time = time.time()\n",
    "        resp = agents.invoke(query, agent_id, session_id=_session_id)\n",
    "        _end_time = time.time()\n",
    "        latencies.append(_end_time - _start_time)\n",
    "\n",
    "    print(f'\\n\\nInvoked agent by supervisor {num_invokes} times.')\n",
    "    # get sum of total latencies\n",
    "    total_time = sum(latencies)\n",
    "    # get average latency\n",
    "    avg_time = total_time / num_invokes\n",
    "    # get p90 latency\n",
    "    p90_time = np.percentile(latencies, 90)\n",
    "\n",
    "    print(f'Average latency: {avg_time:.1f}, P90 latency: {p90_time:.1f}')"
   ]
  },
  {
   "cell_type": "code",
   "execution_count": 55,
   "id": "d825e1bf",
   "metadata": {},
   "outputs": [
    {
     "name": "stdout",
     "output_type": "stream",
     "text": [
      "\n",
      "\n",
      "Invoked agent by supervisor 25 times.\n",
      "Average latency: 10.0, P90 latency: 10.9\n"
     ]
    }
   ],
   "source": [
    "query_loop_by_supervisor(\"I am customer 9. how many years until the mortgage maturity date?\", \n",
    "                            supervisor_agent_id, 25)"
   ]
  },
  {
   "cell_type": "markdown",
   "id": "8ebf4438-1f48-4642-a57c-530a16815064",
   "metadata": {
    "pycharm": {
     "name": "#%% md\n"
    }
   },
   "source": [
    "## 7. Clean-up \n",
    "Let's delete all the associated resources created to avoid unnecessary costs. "
   ]
  },
  {
   "cell_type": "code",
   "execution_count": 56,
   "id": "8c2e5a47",
   "metadata": {},
   "outputs": [],
   "source": [
    "supervisor_agent_name = \"mortgage_supervisor_agent\"\n",
    "agents.delete_lambda(f\"{supervisor_agent_name}_lambda\")\n",
    "agents.delete_agent(supervisor_agent_name)"
   ]
  },
  {
   "cell_type": "code",
   "execution_count": null,
   "id": "587b7ae0",
   "metadata": {},
   "outputs": [],
   "source": []
  }
 ],
 "metadata": {
  "availableInstances": [
   {
    "_defaultOrder": 0,
    "_isFastLaunch": true,
    "category": "General purpose",
    "gpuNum": 0,
    "hideHardwareSpecs": false,
    "memoryGiB": 4,
    "name": "ml.t3.medium",
    "vcpuNum": 2
   },
   {
    "_defaultOrder": 1,
    "_isFastLaunch": false,
    "category": "General purpose",
    "gpuNum": 0,
    "hideHardwareSpecs": false,
    "memoryGiB": 8,
    "name": "ml.t3.large",
    "vcpuNum": 2
   },
   {
    "_defaultOrder": 2,
    "_isFastLaunch": false,
    "category": "General purpose",
    "gpuNum": 0,
    "hideHardwareSpecs": false,
    "memoryGiB": 16,
    "name": "ml.t3.xlarge",
    "vcpuNum": 4
   },
   {
    "_defaultOrder": 3,
    "_isFastLaunch": false,
    "category": "General purpose",
    "gpuNum": 0,
    "hideHardwareSpecs": false,
    "memoryGiB": 32,
    "name": "ml.t3.2xlarge",
    "vcpuNum": 8
   },
   {
    "_defaultOrder": 4,
    "_isFastLaunch": true,
    "category": "General purpose",
    "gpuNum": 0,
    "hideHardwareSpecs": false,
    "memoryGiB": 8,
    "name": "ml.m5.large",
    "vcpuNum": 2
   },
   {
    "_defaultOrder": 5,
    "_isFastLaunch": false,
    "category": "General purpose",
    "gpuNum": 0,
    "hideHardwareSpecs": false,
    "memoryGiB": 16,
    "name": "ml.m5.xlarge",
    "vcpuNum": 4
   },
   {
    "_defaultOrder": 6,
    "_isFastLaunch": false,
    "category": "General purpose",
    "gpuNum": 0,
    "hideHardwareSpecs": false,
    "memoryGiB": 32,
    "name": "ml.m5.2xlarge",
    "vcpuNum": 8
   },
   {
    "_defaultOrder": 7,
    "_isFastLaunch": false,
    "category": "General purpose",
    "gpuNum": 0,
    "hideHardwareSpecs": false,
    "memoryGiB": 64,
    "name": "ml.m5.4xlarge",
    "vcpuNum": 16
   },
   {
    "_defaultOrder": 8,
    "_isFastLaunch": false,
    "category": "General purpose",
    "gpuNum": 0,
    "hideHardwareSpecs": false,
    "memoryGiB": 128,
    "name": "ml.m5.8xlarge",
    "vcpuNum": 32
   },
   {
    "_defaultOrder": 9,
    "_isFastLaunch": false,
    "category": "General purpose",
    "gpuNum": 0,
    "hideHardwareSpecs": false,
    "memoryGiB": 192,
    "name": "ml.m5.12xlarge",
    "vcpuNum": 48
   },
   {
    "_defaultOrder": 10,
    "_isFastLaunch": false,
    "category": "General purpose",
    "gpuNum": 0,
    "hideHardwareSpecs": false,
    "memoryGiB": 256,
    "name": "ml.m5.16xlarge",
    "vcpuNum": 64
   },
   {
    "_defaultOrder": 11,
    "_isFastLaunch": false,
    "category": "General purpose",
    "gpuNum": 0,
    "hideHardwareSpecs": false,
    "memoryGiB": 384,
    "name": "ml.m5.24xlarge",
    "vcpuNum": 96
   },
   {
    "_defaultOrder": 12,
    "_isFastLaunch": false,
    "category": "General purpose",
    "gpuNum": 0,
    "hideHardwareSpecs": false,
    "memoryGiB": 8,
    "name": "ml.m5d.large",
    "vcpuNum": 2
   },
   {
    "_defaultOrder": 13,
    "_isFastLaunch": false,
    "category": "General purpose",
    "gpuNum": 0,
    "hideHardwareSpecs": false,
    "memoryGiB": 16,
    "name": "ml.m5d.xlarge",
    "vcpuNum": 4
   },
   {
    "_defaultOrder": 14,
    "_isFastLaunch": false,
    "category": "General purpose",
    "gpuNum": 0,
    "hideHardwareSpecs": false,
    "memoryGiB": 32,
    "name": "ml.m5d.2xlarge",
    "vcpuNum": 8
   },
   {
    "_defaultOrder": 15,
    "_isFastLaunch": false,
    "category": "General purpose",
    "gpuNum": 0,
    "hideHardwareSpecs": false,
    "memoryGiB": 64,
    "name": "ml.m5d.4xlarge",
    "vcpuNum": 16
   },
   {
    "_defaultOrder": 16,
    "_isFastLaunch": false,
    "category": "General purpose",
    "gpuNum": 0,
    "hideHardwareSpecs": false,
    "memoryGiB": 128,
    "name": "ml.m5d.8xlarge",
    "vcpuNum": 32
   },
   {
    "_defaultOrder": 17,
    "_isFastLaunch": false,
    "category": "General purpose",
    "gpuNum": 0,
    "hideHardwareSpecs": false,
    "memoryGiB": 192,
    "name": "ml.m5d.12xlarge",
    "vcpuNum": 48
   },
   {
    "_defaultOrder": 18,
    "_isFastLaunch": false,
    "category": "General purpose",
    "gpuNum": 0,
    "hideHardwareSpecs": false,
    "memoryGiB": 256,
    "name": "ml.m5d.16xlarge",
    "vcpuNum": 64
   },
   {
    "_defaultOrder": 19,
    "_isFastLaunch": false,
    "category": "General purpose",
    "gpuNum": 0,
    "hideHardwareSpecs": false,
    "memoryGiB": 384,
    "name": "ml.m5d.24xlarge",
    "vcpuNum": 96
   },
   {
    "_defaultOrder": 20,
    "_isFastLaunch": false,
    "category": "General purpose",
    "gpuNum": 0,
    "hideHardwareSpecs": true,
    "memoryGiB": 0,
    "name": "ml.geospatial.interactive",
    "supportedImageNames": [
     "sagemaker-geospatial-v1-0"
    ],
    "vcpuNum": 0
   },
   {
    "_defaultOrder": 21,
    "_isFastLaunch": true,
    "category": "Compute optimized",
    "gpuNum": 0,
    "hideHardwareSpecs": false,
    "memoryGiB": 4,
    "name": "ml.c5.large",
    "vcpuNum": 2
   },
   {
    "_defaultOrder": 22,
    "_isFastLaunch": false,
    "category": "Compute optimized",
    "gpuNum": 0,
    "hideHardwareSpecs": false,
    "memoryGiB": 8,
    "name": "ml.c5.xlarge",
    "vcpuNum": 4
   },
   {
    "_defaultOrder": 23,
    "_isFastLaunch": false,
    "category": "Compute optimized",
    "gpuNum": 0,
    "hideHardwareSpecs": false,
    "memoryGiB": 16,
    "name": "ml.c5.2xlarge",
    "vcpuNum": 8
   },
   {
    "_defaultOrder": 24,
    "_isFastLaunch": false,
    "category": "Compute optimized",
    "gpuNum": 0,
    "hideHardwareSpecs": false,
    "memoryGiB": 32,
    "name": "ml.c5.4xlarge",
    "vcpuNum": 16
   },
   {
    "_defaultOrder": 25,
    "_isFastLaunch": false,
    "category": "Compute optimized",
    "gpuNum": 0,
    "hideHardwareSpecs": false,
    "memoryGiB": 72,
    "name": "ml.c5.9xlarge",
    "vcpuNum": 36
   },
   {
    "_defaultOrder": 26,
    "_isFastLaunch": false,
    "category": "Compute optimized",
    "gpuNum": 0,
    "hideHardwareSpecs": false,
    "memoryGiB": 96,
    "name": "ml.c5.12xlarge",
    "vcpuNum": 48
   },
   {
    "_defaultOrder": 27,
    "_isFastLaunch": false,
    "category": "Compute optimized",
    "gpuNum": 0,
    "hideHardwareSpecs": false,
    "memoryGiB": 144,
    "name": "ml.c5.18xlarge",
    "vcpuNum": 72
   },
   {
    "_defaultOrder": 28,
    "_isFastLaunch": false,
    "category": "Compute optimized",
    "gpuNum": 0,
    "hideHardwareSpecs": false,
    "memoryGiB": 192,
    "name": "ml.c5.24xlarge",
    "vcpuNum": 96
   },
   {
    "_defaultOrder": 29,
    "_isFastLaunch": true,
    "category": "Accelerated computing",
    "gpuNum": 1,
    "hideHardwareSpecs": false,
    "memoryGiB": 16,
    "name": "ml.g4dn.xlarge",
    "vcpuNum": 4
   },
   {
    "_defaultOrder": 30,
    "_isFastLaunch": false,
    "category": "Accelerated computing",
    "gpuNum": 1,
    "hideHardwareSpecs": false,
    "memoryGiB": 32,
    "name": "ml.g4dn.2xlarge",
    "vcpuNum": 8
   },
   {
    "_defaultOrder": 31,
    "_isFastLaunch": false,
    "category": "Accelerated computing",
    "gpuNum": 1,
    "hideHardwareSpecs": false,
    "memoryGiB": 64,
    "name": "ml.g4dn.4xlarge",
    "vcpuNum": 16
   },
   {
    "_defaultOrder": 32,
    "_isFastLaunch": false,
    "category": "Accelerated computing",
    "gpuNum": 1,
    "hideHardwareSpecs": false,
    "memoryGiB": 128,
    "name": "ml.g4dn.8xlarge",
    "vcpuNum": 32
   },
   {
    "_defaultOrder": 33,
    "_isFastLaunch": false,
    "category": "Accelerated computing",
    "gpuNum": 4,
    "hideHardwareSpecs": false,
    "memoryGiB": 192,
    "name": "ml.g4dn.12xlarge",
    "vcpuNum": 48
   },
   {
    "_defaultOrder": 34,
    "_isFastLaunch": false,
    "category": "Accelerated computing",
    "gpuNum": 1,
    "hideHardwareSpecs": false,
    "memoryGiB": 256,
    "name": "ml.g4dn.16xlarge",
    "vcpuNum": 64
   },
   {
    "_defaultOrder": 35,
    "_isFastLaunch": false,
    "category": "Accelerated computing",
    "gpuNum": 1,
    "hideHardwareSpecs": false,
    "memoryGiB": 61,
    "name": "ml.p3.2xlarge",
    "vcpuNum": 8
   },
   {
    "_defaultOrder": 36,
    "_isFastLaunch": false,
    "category": "Accelerated computing",
    "gpuNum": 4,
    "hideHardwareSpecs": false,
    "memoryGiB": 244,
    "name": "ml.p3.8xlarge",
    "vcpuNum": 32
   },
   {
    "_defaultOrder": 37,
    "_isFastLaunch": false,
    "category": "Accelerated computing",
    "gpuNum": 8,
    "hideHardwareSpecs": false,
    "memoryGiB": 488,
    "name": "ml.p3.16xlarge",
    "vcpuNum": 64
   },
   {
    "_defaultOrder": 38,
    "_isFastLaunch": false,
    "category": "Accelerated computing",
    "gpuNum": 8,
    "hideHardwareSpecs": false,
    "memoryGiB": 768,
    "name": "ml.p3dn.24xlarge",
    "vcpuNum": 96
   },
   {
    "_defaultOrder": 39,
    "_isFastLaunch": false,
    "category": "Memory Optimized",
    "gpuNum": 0,
    "hideHardwareSpecs": false,
    "memoryGiB": 16,
    "name": "ml.r5.large",
    "vcpuNum": 2
   },
   {
    "_defaultOrder": 40,
    "_isFastLaunch": false,
    "category": "Memory Optimized",
    "gpuNum": 0,
    "hideHardwareSpecs": false,
    "memoryGiB": 32,
    "name": "ml.r5.xlarge",
    "vcpuNum": 4
   },
   {
    "_defaultOrder": 41,
    "_isFastLaunch": false,
    "category": "Memory Optimized",
    "gpuNum": 0,
    "hideHardwareSpecs": false,
    "memoryGiB": 64,
    "name": "ml.r5.2xlarge",
    "vcpuNum": 8
   },
   {
    "_defaultOrder": 42,
    "_isFastLaunch": false,
    "category": "Memory Optimized",
    "gpuNum": 0,
    "hideHardwareSpecs": false,
    "memoryGiB": 128,
    "name": "ml.r5.4xlarge",
    "vcpuNum": 16
   },
   {
    "_defaultOrder": 43,
    "_isFastLaunch": false,
    "category": "Memory Optimized",
    "gpuNum": 0,
    "hideHardwareSpecs": false,
    "memoryGiB": 256,
    "name": "ml.r5.8xlarge",
    "vcpuNum": 32
   },
   {
    "_defaultOrder": 44,
    "_isFastLaunch": false,
    "category": "Memory Optimized",
    "gpuNum": 0,
    "hideHardwareSpecs": false,
    "memoryGiB": 384,
    "name": "ml.r5.12xlarge",
    "vcpuNum": 48
   },
   {
    "_defaultOrder": 45,
    "_isFastLaunch": false,
    "category": "Memory Optimized",
    "gpuNum": 0,
    "hideHardwareSpecs": false,
    "memoryGiB": 512,
    "name": "ml.r5.16xlarge",
    "vcpuNum": 64
   },
   {
    "_defaultOrder": 46,
    "_isFastLaunch": false,
    "category": "Memory Optimized",
    "gpuNum": 0,
    "hideHardwareSpecs": false,
    "memoryGiB": 768,
    "name": "ml.r5.24xlarge",
    "vcpuNum": 96
   },
   {
    "_defaultOrder": 47,
    "_isFastLaunch": false,
    "category": "Accelerated computing",
    "gpuNum": 1,
    "hideHardwareSpecs": false,
    "memoryGiB": 16,
    "name": "ml.g5.xlarge",
    "vcpuNum": 4
   },
   {
    "_defaultOrder": 48,
    "_isFastLaunch": false,
    "category": "Accelerated computing",
    "gpuNum": 1,
    "hideHardwareSpecs": false,
    "memoryGiB": 32,
    "name": "ml.g5.2xlarge",
    "vcpuNum": 8
   },
   {
    "_defaultOrder": 49,
    "_isFastLaunch": false,
    "category": "Accelerated computing",
    "gpuNum": 1,
    "hideHardwareSpecs": false,
    "memoryGiB": 64,
    "name": "ml.g5.4xlarge",
    "vcpuNum": 16
   },
   {
    "_defaultOrder": 50,
    "_isFastLaunch": false,
    "category": "Accelerated computing",
    "gpuNum": 1,
    "hideHardwareSpecs": false,
    "memoryGiB": 128,
    "name": "ml.g5.8xlarge",
    "vcpuNum": 32
   },
   {
    "_defaultOrder": 51,
    "_isFastLaunch": false,
    "category": "Accelerated computing",
    "gpuNum": 1,
    "hideHardwareSpecs": false,
    "memoryGiB": 256,
    "name": "ml.g5.16xlarge",
    "vcpuNum": 64
   },
   {
    "_defaultOrder": 52,
    "_isFastLaunch": false,
    "category": "Accelerated computing",
    "gpuNum": 4,
    "hideHardwareSpecs": false,
    "memoryGiB": 192,
    "name": "ml.g5.12xlarge",
    "vcpuNum": 48
   },
   {
    "_defaultOrder": 53,
    "_isFastLaunch": false,
    "category": "Accelerated computing",
    "gpuNum": 4,
    "hideHardwareSpecs": false,
    "memoryGiB": 384,
    "name": "ml.g5.24xlarge",
    "vcpuNum": 96
   },
   {
    "_defaultOrder": 54,
    "_isFastLaunch": false,
    "category": "Accelerated computing",
    "gpuNum": 8,
    "hideHardwareSpecs": false,
    "memoryGiB": 768,
    "name": "ml.g5.48xlarge",
    "vcpuNum": 192
   },
   {
    "_defaultOrder": 55,
    "_isFastLaunch": false,
    "category": "Accelerated computing",
    "gpuNum": 8,
    "hideHardwareSpecs": false,
    "memoryGiB": 1152,
    "name": "ml.p4d.24xlarge",
    "vcpuNum": 96
   },
   {
    "_defaultOrder": 56,
    "_isFastLaunch": false,
    "category": "Accelerated computing",
    "gpuNum": 8,
    "hideHardwareSpecs": false,
    "memoryGiB": 1152,
    "name": "ml.p4de.24xlarge",
    "vcpuNum": 96
   },
   {
    "_defaultOrder": 57,
    "_isFastLaunch": false,
    "category": "Accelerated computing",
    "gpuNum": 0,
    "hideHardwareSpecs": false,
    "memoryGiB": 32,
    "name": "ml.trn1.2xlarge",
    "vcpuNum": 8
   },
   {
    "_defaultOrder": 58,
    "_isFastLaunch": false,
    "category": "Accelerated computing",
    "gpuNum": 0,
    "hideHardwareSpecs": false,
    "memoryGiB": 512,
    "name": "ml.trn1.32xlarge",
    "vcpuNum": 128
   },
   {
    "_defaultOrder": 59,
    "_isFastLaunch": false,
    "category": "Accelerated computing",
    "gpuNum": 0,
    "hideHardwareSpecs": false,
    "memoryGiB": 512,
    "name": "ml.trn1n.32xlarge",
    "vcpuNum": 128
   }
  ],
  "instance_type": "ml.t3.medium",
  "kernelspec": {
   "display_name": "Python 3 (ipykernel)",
   "language": "python",
   "name": "python3"
  },
  "language_info": {
   "codemirror_mode": {
    "name": "ipython",
    "version": 3
   },
   "file_extension": ".py",
   "mimetype": "text/x-python",
   "name": "python",
   "nbconvert_exporter": "python",
   "pygments_lexer": "ipython3",
   "version": "3.11.3"
  }
 },
 "nbformat": 4,
 "nbformat_minor": 5
}
