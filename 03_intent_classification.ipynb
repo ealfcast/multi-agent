{
 "cells": [
  {
   "cell_type": "markdown",
   "id": "c12918a0",
   "metadata": {},
   "source": [
    "# Use Intent Classification to orchestrate multiple sub-agents "
   ]
  },
  {
   "cell_type": "markdown",
   "id": "9fcecc32",
   "metadata": {},
   "source": [
    "#### Sample dialog \n",
    "\n",
    "1. what's my balance [asks for customer id]\n",
    "2. cool, when's my next pmt due \n",
    "3. refi rates are down to 3.5. dude, should i refi?\n",
    "4. I'm also applying for a new mortgage. can you remind me if I've got any other docs I'm supposed to get you?"
   ]
  },
  {
   "cell_type": "markdown",
   "id": "4fa67d7a",
   "metadata": {
    "pycharm": {
     "name": "#%% md\n"
    }
   },
   "source": [
    "First step is to install the pre-requisites packages"
   ]
  },
  {
   "cell_type": "code",
   "execution_count": 59,
   "id": "ac05c073-d45b-4d85-9bf8-ae10aa78be8d",
   "metadata": {
    "pycharm": {
     "name": "#%%\n"
    },
    "tags": []
   },
   "outputs": [],
   "source": [
    "# !pip install --upgrade -q -r requirements.txt\n",
    "# !pip install --upgrade -q boto3 botocore "
   ]
  },
  {
   "cell_type": "code",
   "execution_count": 1,
   "id": "e8ad6ec2-b283-4c5d-879f-e397e46568c0",
   "metadata": {
    "pycharm": {
     "name": "#%%\n"
    },
    "tags": []
   },
   "outputs": [],
   "source": [
    "import time\n",
    "import boto3\n",
    "import logging\n",
    "import pprint\n",
    "import json\n",
    "\n",
    "%load_ext autoreload\n",
    "%autoreload 2\n",
    "\n",
    "from agent import AgentsForAmazonBedrock"
   ]
  },
  {
   "cell_type": "code",
   "execution_count": 2,
   "id": "d2b2d607-c1f2-4cbb-9f89-d935676e0101",
   "metadata": {
    "pycharm": {
     "name": "#%%\n"
    },
    "tags": []
   },
   "outputs": [],
   "source": [
    "#Clients\n",
    "s3_client = boto3.client('s3')\n",
    "sts_client = boto3.client('sts')\n",
    "session = boto3.session.Session()\n",
    "bedrock_client = boto3.client('bedrock-runtime')\n",
    "bedrock_agent_client = boto3.client('bedrock-agent')\n",
    "bedrock_agent_runtime_client = boto3.client('bedrock-agent-runtime')\n",
    "\n",
    "logging.basicConfig(format='[%(asctime)s] p%(process)s {%(filename)s:%(lineno)d} %(levelname)s - %(message)s', level=logging.INFO)\n",
    "logger = logging.getLogger(__name__)"
   ]
  },
  {
   "cell_type": "code",
   "execution_count": 3,
   "id": "d647d2a3",
   "metadata": {
    "pycharm": {
     "name": "#%%\n"
    },
    "tags": []
   },
   "outputs": [],
   "source": [
    "region = session.region_name\n",
    "account_id = sts_client.get_caller_identity()[\"Account\"]\n",
    "\n",
    "suffix = f\"{region}-{account_id}\"\n",
    "bucket_name = f'mac-workshop-{suffix}'\n",
    "agent_foundation_models = [\n",
    "    \"anthropic.claude-3-haiku-20240307-v1:0\",\n",
    "    \"anthropic.claude-3-sonnet-20240229-v1:0\", \n",
    "    ]"
   ]
  },
  {
   "cell_type": "code",
   "execution_count": 4,
   "id": "31994238",
   "metadata": {},
   "outputs": [],
   "source": [
    "agents = AgentsForAmazonBedrock()"
   ]
  },
  {
   "cell_type": "code",
   "execution_count": 5,
   "id": "3715525a",
   "metadata": {},
   "outputs": [],
   "source": [
    "sub_agent_names = [\"existing_mortgage_agent\", \"mortgage_application_agent\"]"
   ]
  },
  {
   "cell_type": "code",
   "execution_count": 6,
   "id": "8deade1a",
   "metadata": {},
   "outputs": [],
   "source": [
    "def classifyIntentByLLM(input_text, bedrock_runtime, model_id, \n",
    "                        top_p=1, temp=0, system=''):  \n",
    "    messages = [\n",
    "        {\n",
    "        \"role\": 'user',\n",
    "        \"content\": [ {\"type\": \"text\", \"text\":\n",
    "f\"\"\"\n",
    "You will be given some user input. Classify that input according to which bot would be\n",
    "the most appropriate one to respond that input.\n",
    "\n",
    "EXISTING: can retrieve the latest information about an existing mortgage, like principal balance and\n",
    "payment information.\n",
    "\n",
    "APPLICATION: handle requests related to mortgage applications that are in process. creating, managing, \n",
    "and completing these mortgage applications. help find status of required application documentation.\n",
    "assumes that the mortgage type is already determined. unable to handle general questions about mortgages\n",
    "like tradeoffs between different mortgage types.\n",
    "\n",
    "OTHER: not applicable for any of the bots available.\n",
    "\n",
    "Here is the user input text:\n",
    "<input_text>\n",
    "{input_text}\n",
    "</input_text>\n",
    "\n",
    "Return only the name of the bot, with no preamble.\n",
    "\"\"\"\n",
    "        }]\n",
    "        }\n",
    "    ]  \n",
    "    body=json.dumps(\n",
    "        {\n",
    "            \"anthropic_version\": \"bedrock-2023-05-31\",\n",
    "            \"max_tokens\": 25,\n",
    "            \"messages\": messages,\n",
    "            \"temperature\": temp,\n",
    "            \"top_p\": top_p,\n",
    "            \"system\": system,\n",
    "            \"stop_sequences\":[\"assistant\"]\n",
    "        }  \n",
    "    )  \n",
    "    \n",
    "    response = bedrock_runtime.invoke_model(body=body, modelId=model_id)\n",
    "    response_body = json.loads(response.get('body').read())\n",
    "    # print(response_body)\n",
    "    \n",
    "    return response_body['content'][0]['text']"
   ]
  },
  {
   "cell_type": "code",
   "execution_count": 7,
   "id": "52812ed1",
   "metadata": {},
   "outputs": [
    {
     "data": {
      "text/plain": [
       "'APPLICATION'"
      ]
     },
     "execution_count": 7,
     "metadata": {},
     "output_type": "execute_result"
    }
   ],
   "source": [
    "classifyIntentByLLM(\"what is the status of my application?\", bedrock_client, \n",
    "                model_id = \"anthropic.claude-3-haiku-20240307-v1:0\", temp=0.5, top_p=0.9)"
   ]
  },
  {
   "cell_type": "code",
   "execution_count": 8,
   "id": "2c19f23d",
   "metadata": {},
   "outputs": [
    {
     "data": {
      "text/plain": [
       "'OTHER'"
      ]
     },
     "execution_count": 8,
     "metadata": {},
     "output_type": "execute_result"
    }
   ],
   "source": [
    "classifyIntentByLLM(\"what is better, 30 year mortgage or 15 year?\", bedrock_client, \n",
    "                model_id = \"anthropic.claude-3-haiku-20240307-v1:0\", temp=0.5, top_p=0.9)"
   ]
  },
  {
   "cell_type": "code",
   "execution_count": 9,
   "id": "dd2ae63d",
   "metadata": {},
   "outputs": [
    {
     "data": {
      "text/plain": [
       "'OTHER'"
      ]
     },
     "execution_count": 9,
     "metadata": {},
     "output_type": "execute_result"
    }
   ],
   "source": [
    "classifyIntentByLLM(\"why would I pick a 15 year mortgage over a 30 year?\", bedrock_client, \n",
    "                model_id = \"anthropic.claude-3-haiku-20240307-v1:0\", temp=0.5, top_p=0.9)"
   ]
  },
  {
   "cell_type": "code",
   "execution_count": 10,
   "id": "a4c0e3d1",
   "metadata": {},
   "outputs": [
    {
     "data": {
      "text/plain": [
       "'APPLICATION'"
      ]
     },
     "execution_count": 10,
     "metadata": {},
     "output_type": "execute_result"
    }
   ],
   "source": [
    "classifyIntentByLLM(\"what is the status of the documents I need to provide?\", bedrock_client, \n",
    "                model_id = \"anthropic.claude-3-haiku-20240307-v1:0\", temp=0.5, top_p=0.9)"
   ]
  },
  {
   "cell_type": "code",
   "execution_count": 11,
   "id": "7bd94515",
   "metadata": {},
   "outputs": [
    {
     "data": {
      "text/plain": [
       "'EXISTING'"
      ]
     },
     "execution_count": 11,
     "metadata": {},
     "output_type": "execute_result"
    }
   ],
   "source": [
    "classifyIntentByLLM(\"when is my next payment due?\", bedrock_client, \n",
    "                model_id = \"anthropic.claude-3-haiku-20240307-v1:0\", temp=0.5, top_p=0.9)"
   ]
  },
  {
   "cell_type": "code",
   "execution_count": 12,
   "id": "f53dc47f",
   "metadata": {},
   "outputs": [
    {
     "data": {
      "text/plain": [
       "'EXISTING'"
      ]
     },
     "execution_count": 12,
     "metadata": {},
     "output_type": "execute_result"
    }
   ],
   "source": [
    "classifyIntentByLLM(\"I am customer 288. What is my existing balance?\", bedrock_client, \n",
    "                model_id = \"anthropic.claude-3-haiku-20240307-v1:0\", temp=0.5, top_p=0.9)"
   ]
  },
  {
   "cell_type": "code",
   "execution_count": 13,
   "id": "b3e49644",
   "metadata": {},
   "outputs": [
    {
     "data": {
      "text/plain": [
       "{'EXISTING': 'VHJGRWYVLS', 'APPLICATION': 'N5Y3BFKPTD'}"
      ]
     },
     "execution_count": 13,
     "metadata": {},
     "output_type": "execute_result"
    }
   ],
   "source": [
    "INTENT_TO_ID_MAP = {\n",
    "    \"EXISTING\": agents.get_agent_id_by_name(\"existing_mortgage_agent\"),\n",
    "    \"APPLICATION\": agents.get_agent_id_by_name(\"mortgage_application_agent\")\n",
    "}\n",
    "INTENT_TO_ID_MAP "
   ]
  },
  {
   "cell_type": "code",
   "execution_count": 14,
   "id": "526ba5ee",
   "metadata": {},
   "outputs": [],
   "source": [
    "def invokeByIntent(input_text, session_id, session_state={}):\n",
    "    input_intent = classifyIntentByLLM(input_text, bedrock_client, \n",
    "                            model_id = \"anthropic.claude-3-haiku-20240307-v1:0\", temp=0.5, top_p=0.9)\n",
    "\n",
    "    if input_intent == \"EXISTING\":\n",
    "        # print('invoking Existing Mortgage agent...')\n",
    "        response = agents.invoke(input_text, INTENT_TO_ID_MAP[\"EXISTING\"], \n",
    "                                              session_id=session_id, session_state=session_state)\n",
    "    elif input_intent == \"APPLICATION\":\n",
    "        # print('invoking Mortgage Application agent...')\n",
    "        response = agents.invoke(input_text, INTENT_TO_ID_MAP[\"APPLICATION\"], \n",
    "                                              session_id=session_id, session_state=session_state)\n",
    "    else:\n",
    "        response = \"Sorry, I don't have that expertise. Please ask a different question.\"\n",
    "\n",
    "    return response"
   ]
  },
  {
   "cell_type": "code",
   "execution_count": 15,
   "id": "ffe5aac2",
   "metadata": {},
   "outputs": [],
   "source": [
    "sup_session_id = '999'"
   ]
  },
  {
   "cell_type": "code",
   "execution_count": 16,
   "id": "45453ed5",
   "metadata": {},
   "outputs": [
    {
     "name": "stdout",
     "output_type": "stream",
     "text": [
      "According to the mortgage information, your next payment is due on 2024-07-01.\n",
      "CPU times: user 17.1 ms, sys: 2.41 ms, total: 19.5 ms\n",
      "Wall time: 2.85 s\n"
     ]
    }
   ],
   "source": [
    "%%time\n",
    "print(invokeByIntent(\"my id is 8953. when is my payment due?\", sup_session_id))"
   ]
  },
  {
   "cell_type": "code",
   "execution_count": 17,
   "id": "8cd4352c",
   "metadata": {},
   "outputs": [
    {
     "name": "stdout",
     "output_type": "stream",
     "text": [
      "CPU times: user 2.02 ms, sys: 1.07 ms, total: 3.09 ms\n",
      "Wall time: 346 ms\n"
     ]
    },
    {
     "data": {
      "text/plain": [
       "\"Sorry, I don't have that expertise. Please ask a different question.\""
      ]
     },
     "execution_count": 17,
     "metadata": {},
     "output_type": "execute_result"
    }
   ],
   "source": [
    "%%time\n",
    "invokeByIntent(\"why would I pick a 15 year mortgage over a 30?\", sup_session_id)"
   ]
  },
  {
   "cell_type": "code",
   "execution_count": 18,
   "id": "f28ef0d3",
   "metadata": {},
   "outputs": [
    {
     "name": "stdout",
     "output_type": "stream",
     "text": [
      "CPU times: user 4.64 ms, sys: 1.1 ms, total: 5.74 ms\n",
      "Wall time: 3.83 s\n"
     ]
    },
    {
     "data": {
      "text/plain": [
       "'According to the mortgage application document status for customer 948, the only document you still need to provide is your employment information. All other required documents, including proof of income, proof of assets, and credit information, have been completed.'"
      ]
     },
     "execution_count": 18,
     "metadata": {},
     "output_type": "execute_result"
    }
   ],
   "source": [
    "%%time\n",
    "invokeByIntent(\"I am customer 948. what documents do i still need to provide for my application?\", \n",
    "                sup_session_id)"
   ]
  },
  {
   "cell_type": "code",
   "execution_count": 19,
   "id": "57f9e647",
   "metadata": {},
   "outputs": [
    {
     "name": "stdout",
     "output_type": "stream",
     "text": [
      "CPU times: user 3.38 ms, sys: 964 µs, total: 4.35 ms\n",
      "Wall time: 2.9 s\n"
     ]
    },
    {
     "data": {
      "text/plain": [
       "'According to the mortgage application document status, you have already provided the following documents for your application:\\n- Proof of income\\n- Proof of assets \\n- Credit information\\n\\nThe only document you have not yet provided is your employment information.'"
      ]
     },
     "execution_count": 19,
     "metadata": {},
     "output_type": "execute_result"
    }
   ],
   "source": [
    "%%time\n",
    "invokeByIntent(\"what documents have i already provided for my application?\", sup_session_id)"
   ]
  },
  {
   "cell_type": "code",
   "execution_count": 20,
   "id": "270c16a1",
   "metadata": {},
   "outputs": [
    {
     "name": "stdout",
     "output_type": "stream",
     "text": [
      "CPU times: user 3.82 ms, sys: 1.03 ms, total: 4.85 ms\n",
      "Wall time: 2.47 s\n"
     ]
    },
    {
     "data": {
      "text/plain": [
       "'The outstanding principal balance on your existing mortgage is $150,000.00.'"
      ]
     },
     "execution_count": 20,
     "metadata": {},
     "output_type": "execute_result"
    }
   ],
   "source": [
    "%%time\n",
    "invokeByIntent(\"my ID is 9856. what is my principal balance on my existing mortgage?\", \n",
    "            sup_session_id)"
   ]
  },
  {
   "cell_type": "code",
   "execution_count": 22,
   "id": "050ffb11",
   "metadata": {},
   "outputs": [
    {
     "name": "stdout",
     "output_type": "stream",
     "text": [
      "invokeByIntent\n",
      "my customer id is 8953. when is my payment due?\n",
      "invoking Existing Mortgage agent...\n",
      "CPU times: user 5.42 ms, sys: 1.44 ms, total: 6.86 ms\n",
      "Wall time: 2.07 s\n"
     ]
    },
    {
     "data": {
      "text/plain": [
       "'According to the mortgage status information for customer ID 8953, your next mortgage payment is due on 2024-07-01.'"
      ]
     },
     "execution_count": 22,
     "metadata": {},
     "output_type": "execute_result"
    }
   ],
   "source": [
    "%%time \n",
    "invokeByIntent(\"my customer id is 8953. when is my payment due?\", sup_session_id)"
   ]
  },
  {
   "cell_type": "code",
   "execution_count": 21,
   "id": "895a63a0",
   "metadata": {},
   "outputs": [
    {
     "name": "stdout",
     "output_type": "stream",
     "text": [
      "CPU times: user 2.28 ms, sys: 1.2 ms, total: 3.48 ms\n",
      "Wall time: 270 ms\n"
     ]
    },
    {
     "data": {
      "text/plain": [
       "\"Sorry, I don't have that expertise. Please ask a different question.\""
      ]
     },
     "execution_count": 21,
     "metadata": {},
     "output_type": "execute_result"
    }
   ],
   "source": [
    "%%time \n",
    "invokeByIntent(\"what are the cons of a 30 year mortgage?\", sup_session_id)"
   ]
  },
  {
   "cell_type": "markdown",
   "id": "c7043ba4",
   "metadata": {},
   "source": [
    "##### Invoke Agent by Intent, with prompt attribute"
   ]
  },
  {
   "cell_type": "code",
   "execution_count": 22,
   "id": "10bd8e02",
   "metadata": {},
   "outputs": [
    {
     "data": {
      "text/plain": [
       "{'promptSessionAttributes': {'customer_ID': '498', 'today': 'Jun-01-2024'}}"
      ]
     },
     "execution_count": 22,
     "metadata": {},
     "output_type": "execute_result"
    }
   ],
   "source": [
    "from datetime import datetime\n",
    "today = datetime.today().strftime('%b-%d-%Y')\n",
    "\n",
    "session_state = {\n",
    "    \"promptSessionAttributes\": {\n",
    "        \"customer_ID\": \"498\",\n",
    "        \"today\": today\n",
    "    }\n",
    "}\n",
    "session_state"
   ]
  },
  {
   "cell_type": "code",
   "execution_count": 23,
   "id": "139c210f",
   "metadata": {},
   "outputs": [
    {
     "name": "stdout",
     "output_type": "stream",
     "text": [
      "According to the information I have, you have already provided the following documents for your mortgage application:\n",
      "- Proof of income\n",
      "- Proof of assets\n",
      "\n",
      "However, you still need to provide the following document:\n",
      "- Employment information\n",
      "\n",
      "Please submit the missing employment information document as soon as possible so we can continue processing your mortgage application.\n",
      "CPU times: user 5.02 ms, sys: 1.52 ms, total: 6.54 ms\n",
      "Wall time: 3.31 s\n"
     ]
    }
   ],
   "source": [
    "%%time\n",
    "sup_session_id = \"111\"\n",
    "print(invokeByIntent(\"what docs do I still owe you?\", \n",
    "                    sup_session_id, session_state=session_state))"
   ]
  },
  {
   "cell_type": "code",
   "execution_count": 24,
   "id": "822d9a88",
   "metadata": {},
   "outputs": [
    {
     "name": "stdout",
     "output_type": "stream",
     "text": [
      "The number of years until the mortgage maturity date is 6 years.\n",
      "CPU times: user 4.82 ms, sys: 1.36 ms, total: 6.19 ms\n",
      "Wall time: 3.45 s\n"
     ]
    }
   ],
   "source": [
    "%%time\n",
    "sup_session_id = \"222\"\n",
    "print(invokeByIntent(\"how many years until I reach the mortgage maturity date?\", \n",
    "                        sup_session_id, session_state=session_state))"
   ]
  },
  {
   "cell_type": "markdown",
   "id": "8c2e5a47",
   "metadata": {},
   "source": [
    "### Quick performance test"
   ]
  },
  {
   "cell_type": "code",
   "execution_count": 25,
   "id": "6fa1b334",
   "metadata": {},
   "outputs": [],
   "source": [
    "import uuid \n",
    "import time\n",
    "import numpy as np\n",
    "\n",
    "def query_loop_by_intent(query, num_invokes):\n",
    "    latencies = []\n",
    "    for i in range(num_invokes):\n",
    "        _session_id = str(uuid.uuid1())\n",
    "        _start_time = time.time()\n",
    "        resp = invokeByIntent(query, _session_id)\n",
    "        _end_time = time.time()\n",
    "        latencies.append(_end_time - _start_time)\n",
    "\n",
    "    print(f'\\n\\nInvoked by intent {num_invokes} times.')\n",
    "    # get sum of total latencies\n",
    "    total_time = sum(latencies)\n",
    "    # get average latency\n",
    "    avg_time = total_time / num_invokes\n",
    "    # get p90 latency\n",
    "    p90_time = np.percentile(latencies, 90)\n",
    "\n",
    "    print(f'Average latency: {avg_time:.1f}, P90 latency: {p90_time:.1f}')"
   ]
  },
  {
   "cell_type": "code",
   "execution_count": 26,
   "id": "f817c809",
   "metadata": {},
   "outputs": [
    {
     "name": "stdout",
     "output_type": "stream",
     "text": [
      "\n",
      "\n",
      "Invoked by intent 25 times.\n",
      "Average latency: 3.1, P90 latency: 3.3\n"
     ]
    }
   ],
   "source": [
    "query_loop_by_intent(\"I am customer 999. how many years until the mortgage maturity date?\", 25)"
   ]
  },
  {
   "cell_type": "code",
   "execution_count": 27,
   "id": "f5e9f861",
   "metadata": {},
   "outputs": [],
   "source": [
    "import uuid \n",
    "import time\n",
    "import numpy as np\n",
    "\n",
    "def classification_loop(query, num_invokes, runtime, model):\n",
    "    latencies = []\n",
    "    for i in range(num_invokes):\n",
    "        _session_id = str(uuid.uuid1())\n",
    "        _start_time = time.time()\n",
    "        resp = classifyIntentByLLM(query, runtime, model)\n",
    "        _end_time = time.time()\n",
    "        latencies.append(_end_time - _start_time)\n",
    "\n",
    "    print(f'\\n\\nClassified by intent {num_invokes} times.')\n",
    "    # get sum of total latencies\n",
    "    total_time = sum(latencies)\n",
    "    # get average latency\n",
    "    avg_time = total_time / num_invokes\n",
    "    # get p90 latency\n",
    "    p90_time = np.percentile(latencies, 90)\n",
    "\n",
    "    print(f'Average latency: {avg_time:.1f}, P90 latency: {p90_time:.1f}')"
   ]
  },
  {
   "cell_type": "code",
   "execution_count": 28,
   "id": "4828c230",
   "metadata": {},
   "outputs": [
    {
     "name": "stdout",
     "output_type": "stream",
     "text": [
      "\n",
      "\n",
      "Classified by intent 25 times.\n",
      "Average latency: 0.3, P90 latency: 0.4\n"
     ]
    }
   ],
   "source": [
    "classification_loop(\"I'm customer 99. what's my balance?\", 25, \n",
    "                    bedrock_client, agent_foundation_models[0])"
   ]
  },
  {
   "cell_type": "code",
   "execution_count": null,
   "id": "006100de",
   "metadata": {},
   "outputs": [],
   "source": []
  }
 ],
 "metadata": {
  "availableInstances": [
   {
    "_defaultOrder": 0,
    "_isFastLaunch": true,
    "category": "General purpose",
    "gpuNum": 0,
    "hideHardwareSpecs": false,
    "memoryGiB": 4,
    "name": "ml.t3.medium",
    "vcpuNum": 2
   },
   {
    "_defaultOrder": 1,
    "_isFastLaunch": false,
    "category": "General purpose",
    "gpuNum": 0,
    "hideHardwareSpecs": false,
    "memoryGiB": 8,
    "name": "ml.t3.large",
    "vcpuNum": 2
   },
   {
    "_defaultOrder": 2,
    "_isFastLaunch": false,
    "category": "General purpose",
    "gpuNum": 0,
    "hideHardwareSpecs": false,
    "memoryGiB": 16,
    "name": "ml.t3.xlarge",
    "vcpuNum": 4
   },
   {
    "_defaultOrder": 3,
    "_isFastLaunch": false,
    "category": "General purpose",
    "gpuNum": 0,
    "hideHardwareSpecs": false,
    "memoryGiB": 32,
    "name": "ml.t3.2xlarge",
    "vcpuNum": 8
   },
   {
    "_defaultOrder": 4,
    "_isFastLaunch": true,
    "category": "General purpose",
    "gpuNum": 0,
    "hideHardwareSpecs": false,
    "memoryGiB": 8,
    "name": "ml.m5.large",
    "vcpuNum": 2
   },
   {
    "_defaultOrder": 5,
    "_isFastLaunch": false,
    "category": "General purpose",
    "gpuNum": 0,
    "hideHardwareSpecs": false,
    "memoryGiB": 16,
    "name": "ml.m5.xlarge",
    "vcpuNum": 4
   },
   {
    "_defaultOrder": 6,
    "_isFastLaunch": false,
    "category": "General purpose",
    "gpuNum": 0,
    "hideHardwareSpecs": false,
    "memoryGiB": 32,
    "name": "ml.m5.2xlarge",
    "vcpuNum": 8
   },
   {
    "_defaultOrder": 7,
    "_isFastLaunch": false,
    "category": "General purpose",
    "gpuNum": 0,
    "hideHardwareSpecs": false,
    "memoryGiB": 64,
    "name": "ml.m5.4xlarge",
    "vcpuNum": 16
   },
   {
    "_defaultOrder": 8,
    "_isFastLaunch": false,
    "category": "General purpose",
    "gpuNum": 0,
    "hideHardwareSpecs": false,
    "memoryGiB": 128,
    "name": "ml.m5.8xlarge",
    "vcpuNum": 32
   },
   {
    "_defaultOrder": 9,
    "_isFastLaunch": false,
    "category": "General purpose",
    "gpuNum": 0,
    "hideHardwareSpecs": false,
    "memoryGiB": 192,
    "name": "ml.m5.12xlarge",
    "vcpuNum": 48
   },
   {
    "_defaultOrder": 10,
    "_isFastLaunch": false,
    "category": "General purpose",
    "gpuNum": 0,
    "hideHardwareSpecs": false,
    "memoryGiB": 256,
    "name": "ml.m5.16xlarge",
    "vcpuNum": 64
   },
   {
    "_defaultOrder": 11,
    "_isFastLaunch": false,
    "category": "General purpose",
    "gpuNum": 0,
    "hideHardwareSpecs": false,
    "memoryGiB": 384,
    "name": "ml.m5.24xlarge",
    "vcpuNum": 96
   },
   {
    "_defaultOrder": 12,
    "_isFastLaunch": false,
    "category": "General purpose",
    "gpuNum": 0,
    "hideHardwareSpecs": false,
    "memoryGiB": 8,
    "name": "ml.m5d.large",
    "vcpuNum": 2
   },
   {
    "_defaultOrder": 13,
    "_isFastLaunch": false,
    "category": "General purpose",
    "gpuNum": 0,
    "hideHardwareSpecs": false,
    "memoryGiB": 16,
    "name": "ml.m5d.xlarge",
    "vcpuNum": 4
   },
   {
    "_defaultOrder": 14,
    "_isFastLaunch": false,
    "category": "General purpose",
    "gpuNum": 0,
    "hideHardwareSpecs": false,
    "memoryGiB": 32,
    "name": "ml.m5d.2xlarge",
    "vcpuNum": 8
   },
   {
    "_defaultOrder": 15,
    "_isFastLaunch": false,
    "category": "General purpose",
    "gpuNum": 0,
    "hideHardwareSpecs": false,
    "memoryGiB": 64,
    "name": "ml.m5d.4xlarge",
    "vcpuNum": 16
   },
   {
    "_defaultOrder": 16,
    "_isFastLaunch": false,
    "category": "General purpose",
    "gpuNum": 0,
    "hideHardwareSpecs": false,
    "memoryGiB": 128,
    "name": "ml.m5d.8xlarge",
    "vcpuNum": 32
   },
   {
    "_defaultOrder": 17,
    "_isFastLaunch": false,
    "category": "General purpose",
    "gpuNum": 0,
    "hideHardwareSpecs": false,
    "memoryGiB": 192,
    "name": "ml.m5d.12xlarge",
    "vcpuNum": 48
   },
   {
    "_defaultOrder": 18,
    "_isFastLaunch": false,
    "category": "General purpose",
    "gpuNum": 0,
    "hideHardwareSpecs": false,
    "memoryGiB": 256,
    "name": "ml.m5d.16xlarge",
    "vcpuNum": 64
   },
   {
    "_defaultOrder": 19,
    "_isFastLaunch": false,
    "category": "General purpose",
    "gpuNum": 0,
    "hideHardwareSpecs": false,
    "memoryGiB": 384,
    "name": "ml.m5d.24xlarge",
    "vcpuNum": 96
   },
   {
    "_defaultOrder": 20,
    "_isFastLaunch": false,
    "category": "General purpose",
    "gpuNum": 0,
    "hideHardwareSpecs": true,
    "memoryGiB": 0,
    "name": "ml.geospatial.interactive",
    "supportedImageNames": [
     "sagemaker-geospatial-v1-0"
    ],
    "vcpuNum": 0
   },
   {
    "_defaultOrder": 21,
    "_isFastLaunch": true,
    "category": "Compute optimized",
    "gpuNum": 0,
    "hideHardwareSpecs": false,
    "memoryGiB": 4,
    "name": "ml.c5.large",
    "vcpuNum": 2
   },
   {
    "_defaultOrder": 22,
    "_isFastLaunch": false,
    "category": "Compute optimized",
    "gpuNum": 0,
    "hideHardwareSpecs": false,
    "memoryGiB": 8,
    "name": "ml.c5.xlarge",
    "vcpuNum": 4
   },
   {
    "_defaultOrder": 23,
    "_isFastLaunch": false,
    "category": "Compute optimized",
    "gpuNum": 0,
    "hideHardwareSpecs": false,
    "memoryGiB": 16,
    "name": "ml.c5.2xlarge",
    "vcpuNum": 8
   },
   {
    "_defaultOrder": 24,
    "_isFastLaunch": false,
    "category": "Compute optimized",
    "gpuNum": 0,
    "hideHardwareSpecs": false,
    "memoryGiB": 32,
    "name": "ml.c5.4xlarge",
    "vcpuNum": 16
   },
   {
    "_defaultOrder": 25,
    "_isFastLaunch": false,
    "category": "Compute optimized",
    "gpuNum": 0,
    "hideHardwareSpecs": false,
    "memoryGiB": 72,
    "name": "ml.c5.9xlarge",
    "vcpuNum": 36
   },
   {
    "_defaultOrder": 26,
    "_isFastLaunch": false,
    "category": "Compute optimized",
    "gpuNum": 0,
    "hideHardwareSpecs": false,
    "memoryGiB": 96,
    "name": "ml.c5.12xlarge",
    "vcpuNum": 48
   },
   {
    "_defaultOrder": 27,
    "_isFastLaunch": false,
    "category": "Compute optimized",
    "gpuNum": 0,
    "hideHardwareSpecs": false,
    "memoryGiB": 144,
    "name": "ml.c5.18xlarge",
    "vcpuNum": 72
   },
   {
    "_defaultOrder": 28,
    "_isFastLaunch": false,
    "category": "Compute optimized",
    "gpuNum": 0,
    "hideHardwareSpecs": false,
    "memoryGiB": 192,
    "name": "ml.c5.24xlarge",
    "vcpuNum": 96
   },
   {
    "_defaultOrder": 29,
    "_isFastLaunch": true,
    "category": "Accelerated computing",
    "gpuNum": 1,
    "hideHardwareSpecs": false,
    "memoryGiB": 16,
    "name": "ml.g4dn.xlarge",
    "vcpuNum": 4
   },
   {
    "_defaultOrder": 30,
    "_isFastLaunch": false,
    "category": "Accelerated computing",
    "gpuNum": 1,
    "hideHardwareSpecs": false,
    "memoryGiB": 32,
    "name": "ml.g4dn.2xlarge",
    "vcpuNum": 8
   },
   {
    "_defaultOrder": 31,
    "_isFastLaunch": false,
    "category": "Accelerated computing",
    "gpuNum": 1,
    "hideHardwareSpecs": false,
    "memoryGiB": 64,
    "name": "ml.g4dn.4xlarge",
    "vcpuNum": 16
   },
   {
    "_defaultOrder": 32,
    "_isFastLaunch": false,
    "category": "Accelerated computing",
    "gpuNum": 1,
    "hideHardwareSpecs": false,
    "memoryGiB": 128,
    "name": "ml.g4dn.8xlarge",
    "vcpuNum": 32
   },
   {
    "_defaultOrder": 33,
    "_isFastLaunch": false,
    "category": "Accelerated computing",
    "gpuNum": 4,
    "hideHardwareSpecs": false,
    "memoryGiB": 192,
    "name": "ml.g4dn.12xlarge",
    "vcpuNum": 48
   },
   {
    "_defaultOrder": 34,
    "_isFastLaunch": false,
    "category": "Accelerated computing",
    "gpuNum": 1,
    "hideHardwareSpecs": false,
    "memoryGiB": 256,
    "name": "ml.g4dn.16xlarge",
    "vcpuNum": 64
   },
   {
    "_defaultOrder": 35,
    "_isFastLaunch": false,
    "category": "Accelerated computing",
    "gpuNum": 1,
    "hideHardwareSpecs": false,
    "memoryGiB": 61,
    "name": "ml.p3.2xlarge",
    "vcpuNum": 8
   },
   {
    "_defaultOrder": 36,
    "_isFastLaunch": false,
    "category": "Accelerated computing",
    "gpuNum": 4,
    "hideHardwareSpecs": false,
    "memoryGiB": 244,
    "name": "ml.p3.8xlarge",
    "vcpuNum": 32
   },
   {
    "_defaultOrder": 37,
    "_isFastLaunch": false,
    "category": "Accelerated computing",
    "gpuNum": 8,
    "hideHardwareSpecs": false,
    "memoryGiB": 488,
    "name": "ml.p3.16xlarge",
    "vcpuNum": 64
   },
   {
    "_defaultOrder": 38,
    "_isFastLaunch": false,
    "category": "Accelerated computing",
    "gpuNum": 8,
    "hideHardwareSpecs": false,
    "memoryGiB": 768,
    "name": "ml.p3dn.24xlarge",
    "vcpuNum": 96
   },
   {
    "_defaultOrder": 39,
    "_isFastLaunch": false,
    "category": "Memory Optimized",
    "gpuNum": 0,
    "hideHardwareSpecs": false,
    "memoryGiB": 16,
    "name": "ml.r5.large",
    "vcpuNum": 2
   },
   {
    "_defaultOrder": 40,
    "_isFastLaunch": false,
    "category": "Memory Optimized",
    "gpuNum": 0,
    "hideHardwareSpecs": false,
    "memoryGiB": 32,
    "name": "ml.r5.xlarge",
    "vcpuNum": 4
   },
   {
    "_defaultOrder": 41,
    "_isFastLaunch": false,
    "category": "Memory Optimized",
    "gpuNum": 0,
    "hideHardwareSpecs": false,
    "memoryGiB": 64,
    "name": "ml.r5.2xlarge",
    "vcpuNum": 8
   },
   {
    "_defaultOrder": 42,
    "_isFastLaunch": false,
    "category": "Memory Optimized",
    "gpuNum": 0,
    "hideHardwareSpecs": false,
    "memoryGiB": 128,
    "name": "ml.r5.4xlarge",
    "vcpuNum": 16
   },
   {
    "_defaultOrder": 43,
    "_isFastLaunch": false,
    "category": "Memory Optimized",
    "gpuNum": 0,
    "hideHardwareSpecs": false,
    "memoryGiB": 256,
    "name": "ml.r5.8xlarge",
    "vcpuNum": 32
   },
   {
    "_defaultOrder": 44,
    "_isFastLaunch": false,
    "category": "Memory Optimized",
    "gpuNum": 0,
    "hideHardwareSpecs": false,
    "memoryGiB": 384,
    "name": "ml.r5.12xlarge",
    "vcpuNum": 48
   },
   {
    "_defaultOrder": 45,
    "_isFastLaunch": false,
    "category": "Memory Optimized",
    "gpuNum": 0,
    "hideHardwareSpecs": false,
    "memoryGiB": 512,
    "name": "ml.r5.16xlarge",
    "vcpuNum": 64
   },
   {
    "_defaultOrder": 46,
    "_isFastLaunch": false,
    "category": "Memory Optimized",
    "gpuNum": 0,
    "hideHardwareSpecs": false,
    "memoryGiB": 768,
    "name": "ml.r5.24xlarge",
    "vcpuNum": 96
   },
   {
    "_defaultOrder": 47,
    "_isFastLaunch": false,
    "category": "Accelerated computing",
    "gpuNum": 1,
    "hideHardwareSpecs": false,
    "memoryGiB": 16,
    "name": "ml.g5.xlarge",
    "vcpuNum": 4
   },
   {
    "_defaultOrder": 48,
    "_isFastLaunch": false,
    "category": "Accelerated computing",
    "gpuNum": 1,
    "hideHardwareSpecs": false,
    "memoryGiB": 32,
    "name": "ml.g5.2xlarge",
    "vcpuNum": 8
   },
   {
    "_defaultOrder": 49,
    "_isFastLaunch": false,
    "category": "Accelerated computing",
    "gpuNum": 1,
    "hideHardwareSpecs": false,
    "memoryGiB": 64,
    "name": "ml.g5.4xlarge",
    "vcpuNum": 16
   },
   {
    "_defaultOrder": 50,
    "_isFastLaunch": false,
    "category": "Accelerated computing",
    "gpuNum": 1,
    "hideHardwareSpecs": false,
    "memoryGiB": 128,
    "name": "ml.g5.8xlarge",
    "vcpuNum": 32
   },
   {
    "_defaultOrder": 51,
    "_isFastLaunch": false,
    "category": "Accelerated computing",
    "gpuNum": 1,
    "hideHardwareSpecs": false,
    "memoryGiB": 256,
    "name": "ml.g5.16xlarge",
    "vcpuNum": 64
   },
   {
    "_defaultOrder": 52,
    "_isFastLaunch": false,
    "category": "Accelerated computing",
    "gpuNum": 4,
    "hideHardwareSpecs": false,
    "memoryGiB": 192,
    "name": "ml.g5.12xlarge",
    "vcpuNum": 48
   },
   {
    "_defaultOrder": 53,
    "_isFastLaunch": false,
    "category": "Accelerated computing",
    "gpuNum": 4,
    "hideHardwareSpecs": false,
    "memoryGiB": 384,
    "name": "ml.g5.24xlarge",
    "vcpuNum": 96
   },
   {
    "_defaultOrder": 54,
    "_isFastLaunch": false,
    "category": "Accelerated computing",
    "gpuNum": 8,
    "hideHardwareSpecs": false,
    "memoryGiB": 768,
    "name": "ml.g5.48xlarge",
    "vcpuNum": 192
   },
   {
    "_defaultOrder": 55,
    "_isFastLaunch": false,
    "category": "Accelerated computing",
    "gpuNum": 8,
    "hideHardwareSpecs": false,
    "memoryGiB": 1152,
    "name": "ml.p4d.24xlarge",
    "vcpuNum": 96
   },
   {
    "_defaultOrder": 56,
    "_isFastLaunch": false,
    "category": "Accelerated computing",
    "gpuNum": 8,
    "hideHardwareSpecs": false,
    "memoryGiB": 1152,
    "name": "ml.p4de.24xlarge",
    "vcpuNum": 96
   },
   {
    "_defaultOrder": 57,
    "_isFastLaunch": false,
    "category": "Accelerated computing",
    "gpuNum": 0,
    "hideHardwareSpecs": false,
    "memoryGiB": 32,
    "name": "ml.trn1.2xlarge",
    "vcpuNum": 8
   },
   {
    "_defaultOrder": 58,
    "_isFastLaunch": false,
    "category": "Accelerated computing",
    "gpuNum": 0,
    "hideHardwareSpecs": false,
    "memoryGiB": 512,
    "name": "ml.trn1.32xlarge",
    "vcpuNum": 128
   },
   {
    "_defaultOrder": 59,
    "_isFastLaunch": false,
    "category": "Accelerated computing",
    "gpuNum": 0,
    "hideHardwareSpecs": false,
    "memoryGiB": 512,
    "name": "ml.trn1n.32xlarge",
    "vcpuNum": 128
   }
  ],
  "instance_type": "ml.t3.medium",
  "kernelspec": {
   "display_name": "Python 3 (ipykernel)",
   "language": "python",
   "name": "python3"
  },
  "language_info": {
   "codemirror_mode": {
    "name": "ipython",
    "version": 3
   },
   "file_extension": ".py",
   "mimetype": "text/x-python",
   "name": "python",
   "nbconvert_exporter": "python",
   "pygments_lexer": "ipython3",
   "version": "3.11.3"
  }
 },
 "nbformat": 4,
 "nbformat_minor": 5
}
