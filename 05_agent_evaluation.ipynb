{
 "cells": [
  {
   "cell_type": "code",
   "execution_count": null,
   "metadata": {},
   "outputs": [],
   "source": [
    "!pip install --upgrade agent-evaluation"
   ]
  },
  {
   "cell_type": "code",
   "execution_count": 2,
   "metadata": {},
   "outputs": [
    {
     "name": "stdout",
     "output_type": "stream",
     "text": [
      "Usage: agenteval run [OPTIONS]\n",
      "\n",
      "  Run test plan.\n",
      "\n",
      "Options:\n",
      "  --filter TEXT          Specifies the test(s) to run. Multiple tests should\n",
      "                         be seperated using a comma. If unspecified, all tests\n",
      "                         from the test plan will be run.\n",
      "  --plan-dir TEXT        The directory where the test plan is stored. If\n",
      "                         unspecified, then the current working directory is\n",
      "                         used.\n",
      "  --verbose              Controls the verbosity of the terminal logs.\n",
      "  --num-threads INTEGER  Number of threads (and thus tests) to run\n",
      "                         concurrently. If unspecified, number of threads will\n",
      "                         be capped at 45.\n",
      "  --work-dir TEXT        The directory where the test result and trace will be\n",
      "                         generated. If unspecified, then the current working\n",
      "                         directory is used.\n",
      "  --help                 Show this message and exit.\n"
     ]
    }
   ],
   "source": [
    "!agenteval run --help"
   ]
  },
  {
   "cell_type": "code",
   "execution_count": 3,
   "metadata": {},
   "outputs": [
    {
     "name": "stdout",
     "output_type": "stream",
     "text": [
      "Overwriting agenteval.yml\n"
     ]
    }
   ],
   "source": [
    "%%writefile agenteval.yml \n",
    "\n",
    "evaluator:\n",
    "  model: claude-3\n",
    "target:\n",
    "  type: bedrock-agent\n",
    "  bedrock_agent_id: SQ1BW8TB3C\n",
    "  bedrock_agent_alias_id: TSTALIASID\n",
    "tests:\n",
    "  check_balance:\n",
    "    steps:\n",
    "    - Ask agent for principal balance for customer 999.\n",
    "    expected_results:\n",
    "    - The agent returns a balance of $150,000.\n",
    "  check_next_payment_date:\n",
    "    steps:\n",
    "    - Ask agent for next payment date for customer 999.\n",
    "    expected_results:\n",
    "    - The agent says that next payment date is 7/1/2024.\n",
    "  check_appl_docs:\n",
    "    steps:\n",
    "    - Ask agent for missing documents for mortgage application for customer 999.\n",
    "    expected_results:\n",
    "    - The agent says that Employment Information docs are still pending.\n",
    "  check_multi_turn_convo:\n",
    "    steps:\n",
    "    - Ask agent for principal balance for customer 999.\n",
    "    - Ask agent for final maturity date.\n",
    "    expected_results:\n",
    "    - The agent says that principal balance is $150,000.\n",
    "    - The agent says that final maturity date is 6/30/2030.\n",
    "  check_kb:\n",
    "    steps:\n",
    "    - Ask agent for benefits of refinancing.\n",
    "    expected_results:\n",
    "    - The agent highlights at least that monthly payments will be lower.\n",
    "\n",
    "\n"
   ]
  },
  {
   "cell_type": "code",
   "execution_count": null,
   "metadata": {},
   "outputs": [],
   "source": [
    "!agenteval run --verbose "
   ]
  }
 ],
 "metadata": {
  "kernelspec": {
   "display_name": "Python 3",
   "language": "python",
   "name": "python3"
  },
  "language_info": {
   "codemirror_mode": {
    "name": "ipython",
    "version": 3
   },
   "file_extension": ".py",
   "mimetype": "text/x-python",
   "name": "python",
   "nbconvert_exporter": "python",
   "pygments_lexer": "ipython3",
   "version": "3.11.3"
  }
 },
 "nbformat": 4,
 "nbformat_minor": 2
}
